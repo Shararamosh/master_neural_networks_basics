{
 "cells": [
  {
   "cell_type": "code",
   "execution_count": 1,
   "id": "4889ab4b-562b-4838-bebe-ca61172c2c9b",
   "metadata": {},
   "outputs": [],
   "source": [
    "import numpy as np\n",
    "import pandas as pd\n",
    "import matplotlib.pyplot as plt\n",
    "from sklearn.preprocessing import StandardScaler\n",
    "from sklearn.preprocessing import LabelEncoder\n",
    "from sklearn.model_selection import train_test_split\n",
    "from sklearn.model_selection import GridSearchCV\n",
    "from sklearn.model_selection import KFold\n",
    "from sklearn.ensemble import RandomForestClassifier\n",
    "from sklearn.metrics import accuracy_score\n",
    "from scikeras.wrappers import KerasClassifier\n",
    "from keras.models import Sequential\n",
    "from keras.layers import Dense\n",
    "seed = 42\n",
    "np.random.seed(seed)"
   ]
  },
  {
   "cell_type": "markdown",
   "id": "50ae63e6-f809-4119-83d8-a9f2bfb26ed2",
   "metadata": {
    "tags": []
   },
   "source": [
    "# Падалко Богдан. Экзаменационная работа по предмету \"Основы нейронных сетей\"."
   ]
  },
  {
   "cell_type": "markdown",
   "id": "234b2ef6-a6ca-4f6f-8111-8a32d6f37473",
   "metadata": {
    "tags": []
   },
   "source": [
    "## Описание выбранного датасета\n",
    "Для своей экзаменационной работы я выбрал датасет **Pima Indians Diabetes Database** (База данных диабета индейцев пима), расположенный по следующей ссылке:\n",
    "\n",
    "https://www.kaggle.com/datasets/uciml/pima-indians-diabetes-database\n",
    "\n",
    "Данный датасет был подготовлен **Национальным институтом диабета, болезней органов пищеварения и почек (NIDDK), США**.\n",
    "\n",
    "Целью собранных данных является прогнозирование наличия у пациента диабета на основе диагностических измерений. В качестве испытуемых для данного датасета были выбраны женщины индейского происхождения пима возрастом 21 год и выше."
   ]
  },
  {
   "cell_type": "code",
   "execution_count": 2,
   "id": "f4a83a8b-7d7a-4bb0-84fe-5c7e53b1a7c8",
   "metadata": {},
   "outputs": [
    {
     "data": {
      "text/html": [
       "<div>\n",
       "<style scoped>\n",
       "    .dataframe tbody tr th:only-of-type {\n",
       "        vertical-align: middle;\n",
       "    }\n",
       "\n",
       "    .dataframe tbody tr th {\n",
       "        vertical-align: top;\n",
       "    }\n",
       "\n",
       "    .dataframe thead th {\n",
       "        text-align: right;\n",
       "    }\n",
       "</style>\n",
       "<table border=\"1\" class=\"dataframe\">\n",
       "  <thead>\n",
       "    <tr style=\"text-align: right;\">\n",
       "      <th></th>\n",
       "      <th>Pregnancies</th>\n",
       "      <th>Glucose</th>\n",
       "      <th>BloodPressure</th>\n",
       "      <th>SkinThickness</th>\n",
       "      <th>Insulin</th>\n",
       "      <th>BMI</th>\n",
       "      <th>DiabetesPedigreeFunction</th>\n",
       "      <th>Age</th>\n",
       "      <th>Outcome</th>\n",
       "    </tr>\n",
       "  </thead>\n",
       "  <tbody>\n",
       "    <tr>\n",
       "      <th>0</th>\n",
       "      <td>6</td>\n",
       "      <td>148</td>\n",
       "      <td>72</td>\n",
       "      <td>35</td>\n",
       "      <td>0</td>\n",
       "      <td>33.6</td>\n",
       "      <td>0.627</td>\n",
       "      <td>50</td>\n",
       "      <td>1</td>\n",
       "    </tr>\n",
       "    <tr>\n",
       "      <th>1</th>\n",
       "      <td>1</td>\n",
       "      <td>85</td>\n",
       "      <td>66</td>\n",
       "      <td>29</td>\n",
       "      <td>0</td>\n",
       "      <td>26.6</td>\n",
       "      <td>0.351</td>\n",
       "      <td>31</td>\n",
       "      <td>0</td>\n",
       "    </tr>\n",
       "    <tr>\n",
       "      <th>2</th>\n",
       "      <td>8</td>\n",
       "      <td>183</td>\n",
       "      <td>64</td>\n",
       "      <td>0</td>\n",
       "      <td>0</td>\n",
       "      <td>23.3</td>\n",
       "      <td>0.672</td>\n",
       "      <td>32</td>\n",
       "      <td>1</td>\n",
       "    </tr>\n",
       "    <tr>\n",
       "      <th>3</th>\n",
       "      <td>1</td>\n",
       "      <td>89</td>\n",
       "      <td>66</td>\n",
       "      <td>23</td>\n",
       "      <td>94</td>\n",
       "      <td>28.1</td>\n",
       "      <td>0.167</td>\n",
       "      <td>21</td>\n",
       "      <td>0</td>\n",
       "    </tr>\n",
       "    <tr>\n",
       "      <th>4</th>\n",
       "      <td>0</td>\n",
       "      <td>137</td>\n",
       "      <td>40</td>\n",
       "      <td>35</td>\n",
       "      <td>168</td>\n",
       "      <td>43.1</td>\n",
       "      <td>2.288</td>\n",
       "      <td>33</td>\n",
       "      <td>1</td>\n",
       "    </tr>\n",
       "  </tbody>\n",
       "</table>\n",
       "</div>"
      ],
      "text/plain": [
       "   Pregnancies  Glucose  BloodPressure  SkinThickness  Insulin   BMI  \\\n",
       "0            6      148             72             35        0  33.6   \n",
       "1            1       85             66             29        0  26.6   \n",
       "2            8      183             64              0        0  23.3   \n",
       "3            1       89             66             23       94  28.1   \n",
       "4            0      137             40             35      168  43.1   \n",
       "\n",
       "   DiabetesPedigreeFunction  Age  Outcome  \n",
       "0                     0.627   50        1  \n",
       "1                     0.351   31        0  \n",
       "2                     0.672   32        1  \n",
       "3                     0.167   21        0  \n",
       "4                     2.288   33        1  "
      ]
     },
     "execution_count": 2,
     "metadata": {},
     "output_type": "execute_result"
    }
   ],
   "source": [
    "df = pd.read_csv(\"diabetes.csv\")\n",
    "df.head()"
   ]
  },
  {
   "cell_type": "markdown",
   "id": "7e3a4bde-e0fb-430c-8421-966eeafd8bc3",
   "metadata": {},
   "source": [
    "Описание признаков (медицинских измерений):\n",
    "\n",
    "- **Pregnancies** - количество беременностей.\n",
    "- **Glucose** - концентрация глюкозы в плазме через 2 часа при ПГТТ (Пероральный глюкозотолерантный тест).\n",
    "- **BloodPressure** - диастолическое артериальное давление (мм рт. ст.).\n",
    "- **SkinThickness** - толщина кожной складки трицепса (мм).\n",
    "- **Insulin** - инсулин в сыворотке крови после нагрузки (мкЕд/мл).\n",
    "- **BMI** - индекс массы тела (кг/м^2).\n",
    "- **DiabetesPedigreeFunction** - функция диабетической родословной.\n",
    "- **Age** - возраст."
   ]
  },
  {
   "cell_type": "markdown",
   "id": "5d391ea8-e9c7-4b42-9d60-3cf0d6431482",
   "metadata": {},
   "source": [
    "Описание искомого результата:\n",
    "\n",
    "**Outcome** - наличие диабета (0 - отсутствует, 1 - имеется)."
   ]
  },
  {
   "cell_type": "markdown",
   "id": "68310766-35e6-43e9-b763-5e94fa6ac8cb",
   "metadata": {
    "tags": []
   },
   "source": [
    "## Проверка и оптимизация датасета"
   ]
  },
  {
   "cell_type": "markdown",
   "id": "5a6b12fd-3cb8-4c00-b6d0-f764359b3d81",
   "metadata": {},
   "source": [
    "Перед построением модели необходимо проверить датасет на наличие некорректных значений. Для этого возпользуемся функциями isnull и describe."
   ]
  },
  {
   "cell_type": "code",
   "execution_count": 3,
   "id": "72681980-226b-4da0-8b58-8329d97e53ee",
   "metadata": {},
   "outputs": [
    {
     "data": {
      "text/plain": [
       "Pregnancies                 0\n",
       "Glucose                     0\n",
       "BloodPressure               0\n",
       "SkinThickness               0\n",
       "Insulin                     0\n",
       "BMI                         0\n",
       "DiabetesPedigreeFunction    0\n",
       "Age                         0\n",
       "Outcome                     0\n",
       "dtype: int64"
      ]
     },
     "execution_count": 3,
     "metadata": {},
     "output_type": "execute_result"
    }
   ],
   "source": [
    "df.isnull().sum()"
   ]
  },
  {
   "cell_type": "markdown",
   "id": "1e5e59f5-a937-418e-b60e-a8d1f557a3b1",
   "metadata": {},
   "source": [
    "В датасете нет NaN-значений."
   ]
  },
  {
   "cell_type": "code",
   "execution_count": 4,
   "id": "9015a8a6-9b5e-44e6-a66a-06f1eb4f95e4",
   "metadata": {},
   "outputs": [
    {
     "data": {
      "text/html": [
       "<div>\n",
       "<style scoped>\n",
       "    .dataframe tbody tr th:only-of-type {\n",
       "        vertical-align: middle;\n",
       "    }\n",
       "\n",
       "    .dataframe tbody tr th {\n",
       "        vertical-align: top;\n",
       "    }\n",
       "\n",
       "    .dataframe thead th {\n",
       "        text-align: right;\n",
       "    }\n",
       "</style>\n",
       "<table border=\"1\" class=\"dataframe\">\n",
       "  <thead>\n",
       "    <tr style=\"text-align: right;\">\n",
       "      <th></th>\n",
       "      <th>count</th>\n",
       "      <th>mean</th>\n",
       "      <th>std</th>\n",
       "      <th>min</th>\n",
       "      <th>25%</th>\n",
       "      <th>50%</th>\n",
       "      <th>75%</th>\n",
       "      <th>max</th>\n",
       "    </tr>\n",
       "  </thead>\n",
       "  <tbody>\n",
       "    <tr>\n",
       "      <th>Pregnancies</th>\n",
       "      <td>768.0</td>\n",
       "      <td>3.845052</td>\n",
       "      <td>3.369578</td>\n",
       "      <td>0.000</td>\n",
       "      <td>1.00000</td>\n",
       "      <td>3.0000</td>\n",
       "      <td>6.00000</td>\n",
       "      <td>17.00</td>\n",
       "    </tr>\n",
       "    <tr>\n",
       "      <th>Glucose</th>\n",
       "      <td>768.0</td>\n",
       "      <td>120.894531</td>\n",
       "      <td>31.972618</td>\n",
       "      <td>0.000</td>\n",
       "      <td>99.00000</td>\n",
       "      <td>117.0000</td>\n",
       "      <td>140.25000</td>\n",
       "      <td>199.00</td>\n",
       "    </tr>\n",
       "    <tr>\n",
       "      <th>BloodPressure</th>\n",
       "      <td>768.0</td>\n",
       "      <td>69.105469</td>\n",
       "      <td>19.355807</td>\n",
       "      <td>0.000</td>\n",
       "      <td>62.00000</td>\n",
       "      <td>72.0000</td>\n",
       "      <td>80.00000</td>\n",
       "      <td>122.00</td>\n",
       "    </tr>\n",
       "    <tr>\n",
       "      <th>SkinThickness</th>\n",
       "      <td>768.0</td>\n",
       "      <td>20.536458</td>\n",
       "      <td>15.952218</td>\n",
       "      <td>0.000</td>\n",
       "      <td>0.00000</td>\n",
       "      <td>23.0000</td>\n",
       "      <td>32.00000</td>\n",
       "      <td>99.00</td>\n",
       "    </tr>\n",
       "    <tr>\n",
       "      <th>Insulin</th>\n",
       "      <td>768.0</td>\n",
       "      <td>79.799479</td>\n",
       "      <td>115.244002</td>\n",
       "      <td>0.000</td>\n",
       "      <td>0.00000</td>\n",
       "      <td>30.5000</td>\n",
       "      <td>127.25000</td>\n",
       "      <td>846.00</td>\n",
       "    </tr>\n",
       "    <tr>\n",
       "      <th>BMI</th>\n",
       "      <td>768.0</td>\n",
       "      <td>31.992578</td>\n",
       "      <td>7.884160</td>\n",
       "      <td>0.000</td>\n",
       "      <td>27.30000</td>\n",
       "      <td>32.0000</td>\n",
       "      <td>36.60000</td>\n",
       "      <td>67.10</td>\n",
       "    </tr>\n",
       "    <tr>\n",
       "      <th>DiabetesPedigreeFunction</th>\n",
       "      <td>768.0</td>\n",
       "      <td>0.471876</td>\n",
       "      <td>0.331329</td>\n",
       "      <td>0.078</td>\n",
       "      <td>0.24375</td>\n",
       "      <td>0.3725</td>\n",
       "      <td>0.62625</td>\n",
       "      <td>2.42</td>\n",
       "    </tr>\n",
       "    <tr>\n",
       "      <th>Age</th>\n",
       "      <td>768.0</td>\n",
       "      <td>33.240885</td>\n",
       "      <td>11.760232</td>\n",
       "      <td>21.000</td>\n",
       "      <td>24.00000</td>\n",
       "      <td>29.0000</td>\n",
       "      <td>41.00000</td>\n",
       "      <td>81.00</td>\n",
       "    </tr>\n",
       "    <tr>\n",
       "      <th>Outcome</th>\n",
       "      <td>768.0</td>\n",
       "      <td>0.348958</td>\n",
       "      <td>0.476951</td>\n",
       "      <td>0.000</td>\n",
       "      <td>0.00000</td>\n",
       "      <td>0.0000</td>\n",
       "      <td>1.00000</td>\n",
       "      <td>1.00</td>\n",
       "    </tr>\n",
       "  </tbody>\n",
       "</table>\n",
       "</div>"
      ],
      "text/plain": [
       "                          count        mean         std     min       25%  \\\n",
       "Pregnancies               768.0    3.845052    3.369578   0.000   1.00000   \n",
       "Glucose                   768.0  120.894531   31.972618   0.000  99.00000   \n",
       "BloodPressure             768.0   69.105469   19.355807   0.000  62.00000   \n",
       "SkinThickness             768.0   20.536458   15.952218   0.000   0.00000   \n",
       "Insulin                   768.0   79.799479  115.244002   0.000   0.00000   \n",
       "BMI                       768.0   31.992578    7.884160   0.000  27.30000   \n",
       "DiabetesPedigreeFunction  768.0    0.471876    0.331329   0.078   0.24375   \n",
       "Age                       768.0   33.240885   11.760232  21.000  24.00000   \n",
       "Outcome                   768.0    0.348958    0.476951   0.000   0.00000   \n",
       "\n",
       "                               50%        75%     max  \n",
       "Pregnancies                 3.0000    6.00000   17.00  \n",
       "Glucose                   117.0000  140.25000  199.00  \n",
       "BloodPressure              72.0000   80.00000  122.00  \n",
       "SkinThickness              23.0000   32.00000   99.00  \n",
       "Insulin                    30.5000  127.25000  846.00  \n",
       "BMI                        32.0000   36.60000   67.10  \n",
       "DiabetesPedigreeFunction    0.3725    0.62625    2.42  \n",
       "Age                        29.0000   41.00000   81.00  \n",
       "Outcome                     0.0000    1.00000    1.00  "
      ]
     },
     "execution_count": 4,
     "metadata": {},
     "output_type": "execute_result"
    }
   ],
   "source": [
    "df.describe().T"
   ]
  },
  {
   "cell_type": "markdown",
   "id": "7a209fa1-8a38-4ffd-866d-c7ff98b256a2",
   "metadata": {},
   "source": [
    "Если взглянуть на столбец с минимальными значениями, то становится ясно, что в столбцах **Glucose**, **BloodPressure**, **SkinThickness**, **Insulin** и **BMI** присутствуют нулевые значения, которые невозможны для данных медицинских показателей. Заменим эти значения на NaN."
   ]
  },
  {
   "cell_type": "code",
   "execution_count": 5,
   "id": "d911d804-f725-43a6-8572-319c7089e953",
   "metadata": {},
   "outputs": [],
   "source": [
    "df_with_nan = df.copy(deep = True)\n",
    "df_with_nan[['Glucose', 'BloodPressure', 'SkinThickness', 'Insulin', 'BMI']] = df_with_nan[['Glucose', 'BloodPressure', 'SkinThickness', 'Insulin', 'BMI']].replace(0.0, np.NaN)"
   ]
  },
  {
   "cell_type": "code",
   "execution_count": 6,
   "id": "ea6e18e5-4a8e-4b3c-abff-107b3b44b4b8",
   "metadata": {},
   "outputs": [
    {
     "data": {
      "text/html": [
       "<div>\n",
       "<style scoped>\n",
       "    .dataframe tbody tr th:only-of-type {\n",
       "        vertical-align: middle;\n",
       "    }\n",
       "\n",
       "    .dataframe tbody tr th {\n",
       "        vertical-align: top;\n",
       "    }\n",
       "\n",
       "    .dataframe thead th {\n",
       "        text-align: right;\n",
       "    }\n",
       "</style>\n",
       "<table border=\"1\" class=\"dataframe\">\n",
       "  <thead>\n",
       "    <tr style=\"text-align: right;\">\n",
       "      <th></th>\n",
       "      <th>count</th>\n",
       "      <th>mean</th>\n",
       "      <th>std</th>\n",
       "      <th>min</th>\n",
       "      <th>25%</th>\n",
       "      <th>50%</th>\n",
       "      <th>75%</th>\n",
       "      <th>max</th>\n",
       "    </tr>\n",
       "  </thead>\n",
       "  <tbody>\n",
       "    <tr>\n",
       "      <th>Pregnancies</th>\n",
       "      <td>768.0</td>\n",
       "      <td>3.845052</td>\n",
       "      <td>3.369578</td>\n",
       "      <td>0.000</td>\n",
       "      <td>1.00000</td>\n",
       "      <td>3.0000</td>\n",
       "      <td>6.00000</td>\n",
       "      <td>17.00</td>\n",
       "    </tr>\n",
       "    <tr>\n",
       "      <th>Glucose</th>\n",
       "      <td>763.0</td>\n",
       "      <td>121.686763</td>\n",
       "      <td>30.535641</td>\n",
       "      <td>44.000</td>\n",
       "      <td>99.00000</td>\n",
       "      <td>117.0000</td>\n",
       "      <td>141.00000</td>\n",
       "      <td>199.00</td>\n",
       "    </tr>\n",
       "    <tr>\n",
       "      <th>BloodPressure</th>\n",
       "      <td>733.0</td>\n",
       "      <td>72.405184</td>\n",
       "      <td>12.382158</td>\n",
       "      <td>24.000</td>\n",
       "      <td>64.00000</td>\n",
       "      <td>72.0000</td>\n",
       "      <td>80.00000</td>\n",
       "      <td>122.00</td>\n",
       "    </tr>\n",
       "    <tr>\n",
       "      <th>SkinThickness</th>\n",
       "      <td>541.0</td>\n",
       "      <td>29.153420</td>\n",
       "      <td>10.476982</td>\n",
       "      <td>7.000</td>\n",
       "      <td>22.00000</td>\n",
       "      <td>29.0000</td>\n",
       "      <td>36.00000</td>\n",
       "      <td>99.00</td>\n",
       "    </tr>\n",
       "    <tr>\n",
       "      <th>Insulin</th>\n",
       "      <td>394.0</td>\n",
       "      <td>155.548223</td>\n",
       "      <td>118.775855</td>\n",
       "      <td>14.000</td>\n",
       "      <td>76.25000</td>\n",
       "      <td>125.0000</td>\n",
       "      <td>190.00000</td>\n",
       "      <td>846.00</td>\n",
       "    </tr>\n",
       "    <tr>\n",
       "      <th>BMI</th>\n",
       "      <td>757.0</td>\n",
       "      <td>32.457464</td>\n",
       "      <td>6.924988</td>\n",
       "      <td>18.200</td>\n",
       "      <td>27.50000</td>\n",
       "      <td>32.3000</td>\n",
       "      <td>36.60000</td>\n",
       "      <td>67.10</td>\n",
       "    </tr>\n",
       "    <tr>\n",
       "      <th>DiabetesPedigreeFunction</th>\n",
       "      <td>768.0</td>\n",
       "      <td>0.471876</td>\n",
       "      <td>0.331329</td>\n",
       "      <td>0.078</td>\n",
       "      <td>0.24375</td>\n",
       "      <td>0.3725</td>\n",
       "      <td>0.62625</td>\n",
       "      <td>2.42</td>\n",
       "    </tr>\n",
       "    <tr>\n",
       "      <th>Age</th>\n",
       "      <td>768.0</td>\n",
       "      <td>33.240885</td>\n",
       "      <td>11.760232</td>\n",
       "      <td>21.000</td>\n",
       "      <td>24.00000</td>\n",
       "      <td>29.0000</td>\n",
       "      <td>41.00000</td>\n",
       "      <td>81.00</td>\n",
       "    </tr>\n",
       "    <tr>\n",
       "      <th>Outcome</th>\n",
       "      <td>768.0</td>\n",
       "      <td>0.348958</td>\n",
       "      <td>0.476951</td>\n",
       "      <td>0.000</td>\n",
       "      <td>0.00000</td>\n",
       "      <td>0.0000</td>\n",
       "      <td>1.00000</td>\n",
       "      <td>1.00</td>\n",
       "    </tr>\n",
       "  </tbody>\n",
       "</table>\n",
       "</div>"
      ],
      "text/plain": [
       "                          count        mean         std     min       25%  \\\n",
       "Pregnancies               768.0    3.845052    3.369578   0.000   1.00000   \n",
       "Glucose                   763.0  121.686763   30.535641  44.000  99.00000   \n",
       "BloodPressure             733.0   72.405184   12.382158  24.000  64.00000   \n",
       "SkinThickness             541.0   29.153420   10.476982   7.000  22.00000   \n",
       "Insulin                   394.0  155.548223  118.775855  14.000  76.25000   \n",
       "BMI                       757.0   32.457464    6.924988  18.200  27.50000   \n",
       "DiabetesPedigreeFunction  768.0    0.471876    0.331329   0.078   0.24375   \n",
       "Age                       768.0   33.240885   11.760232  21.000  24.00000   \n",
       "Outcome                   768.0    0.348958    0.476951   0.000   0.00000   \n",
       "\n",
       "                               50%        75%     max  \n",
       "Pregnancies                 3.0000    6.00000   17.00  \n",
       "Glucose                   117.0000  141.00000  199.00  \n",
       "BloodPressure              72.0000   80.00000  122.00  \n",
       "SkinThickness              29.0000   36.00000   99.00  \n",
       "Insulin                   125.0000  190.00000  846.00  \n",
       "BMI                        32.3000   36.60000   67.10  \n",
       "DiabetesPedigreeFunction    0.3725    0.62625    2.42  \n",
       "Age                        29.0000   41.00000   81.00  \n",
       "Outcome                     0.0000    1.00000    1.00  "
      ]
     },
     "execution_count": 6,
     "metadata": {},
     "output_type": "execute_result"
    }
   ],
   "source": [
    "df_with_nan.describe().T"
   ]
  },
  {
   "cell_type": "markdown",
   "id": "8130bc7a-6c84-464c-89e7-55065b302ce3",
   "metadata": {},
   "source": [
    "Посмотрим, сколько значений каждого из столбцов стали NaN."
   ]
  },
  {
   "cell_type": "code",
   "execution_count": 7,
   "id": "a79ab8af-0e45-4a9a-af61-215afdfca3ac",
   "metadata": {},
   "outputs": [
    {
     "data": {
      "text/plain": [
       "Pregnancies                   0\n",
       "Glucose                       5\n",
       "BloodPressure                35\n",
       "SkinThickness               227\n",
       "Insulin                     374\n",
       "BMI                          11\n",
       "DiabetesPedigreeFunction      0\n",
       "Age                           0\n",
       "Outcome                       0\n",
       "dtype: int64"
      ]
     },
     "execution_count": 7,
     "metadata": {},
     "output_type": "execute_result"
    }
   ],
   "source": [
    "df_with_nan.isnull().sum()"
   ]
  },
  {
   "cell_type": "markdown",
   "id": "9abdd047-9ba9-4467-b8c5-b88bf22dda53",
   "metadata": {},
   "source": [
    "Попробуем заменить отсутствующие значения столбцов средними значениями по данному столбцу с оглядкой на возраст."
   ]
  },
  {
   "cell_type": "code",
   "execution_count": 8,
   "id": "f2f253eb-a732-4010-bd42-c9a35f131ae2",
   "metadata": {},
   "outputs": [],
   "source": [
    "repl_pars = [\"Glucose\", \"BloodPressure\", \"SkinThickness\", \"Insulin\", \"BMI\"]\n",
    "unique_ages = df_with_nan.Age.unique().tolist()\n",
    "df_with_nan_unique_age = df_with_nan.copy(deep = True)\n",
    "for target_age in unique_ages:\n",
    "    #print(\"Замена NaN-значений для возраста \"+str(target_age)+\":\")\n",
    "    for target_par in repl_pars:\n",
    "        mean_value = df_with_nan_unique_age.loc[df_with_nan_unique_age[\"Age\"] == target_age, target_par].mean()\n",
    "        df_with_nan_unique_age[target_par] = np.where(df_with_nan_unique_age[\"Age\"] == target_age, mean_value, df_with_nan_unique_age[target_par])\n",
    "        #print(\"Столбец \"+str(target_par)+\" заменён.\")"
   ]
  },
  {
   "cell_type": "code",
   "execution_count": 9,
   "id": "4b1eccd9-782b-466b-ae1b-b83c49c220e5",
   "metadata": {},
   "outputs": [
    {
     "data": {
      "text/plain": [
       "Pregnancies                  0\n",
       "Glucose                      0\n",
       "BloodPressure                1\n",
       "SkinThickness               12\n",
       "Insulin                     20\n",
       "BMI                          0\n",
       "DiabetesPedigreeFunction     0\n",
       "Age                          0\n",
       "Outcome                      0\n",
       "dtype: int64"
      ]
     },
     "execution_count": 9,
     "metadata": {},
     "output_type": "execute_result"
    }
   ],
   "source": [
    "df_with_nan_unique_age.isnull().sum()"
   ]
  },
  {
   "cell_type": "markdown",
   "id": "ba1ade1a-4906-484c-b564-050b3b61c126",
   "metadata": {},
   "source": [
    "После замены с оглядкой на точный возраст всё ещё остались NaN-значения."
   ]
  },
  {
   "cell_type": "code",
   "execution_count": 10,
   "id": "bf87b7c4-f1db-41ff-8da4-5ad66ba1897b",
   "metadata": {},
   "outputs": [
    {
     "data": {
      "text/html": [
       "<div>\n",
       "<style scoped>\n",
       "    .dataframe tbody tr th:only-of-type {\n",
       "        vertical-align: middle;\n",
       "    }\n",
       "\n",
       "    .dataframe tbody tr th {\n",
       "        vertical-align: top;\n",
       "    }\n",
       "\n",
       "    .dataframe thead th {\n",
       "        text-align: right;\n",
       "    }\n",
       "</style>\n",
       "<table border=\"1\" class=\"dataframe\">\n",
       "  <thead>\n",
       "    <tr style=\"text-align: right;\">\n",
       "      <th></th>\n",
       "      <th>Pregnancies</th>\n",
       "      <th>Glucose</th>\n",
       "      <th>BloodPressure</th>\n",
       "      <th>SkinThickness</th>\n",
       "      <th>Insulin</th>\n",
       "      <th>BMI</th>\n",
       "      <th>DiabetesPedigreeFunction</th>\n",
       "      <th>Age</th>\n",
       "      <th>Outcome</th>\n",
       "    </tr>\n",
       "  </thead>\n",
       "  <tbody>\n",
       "    <tr>\n",
       "      <th>123</th>\n",
       "      <td>5</td>\n",
       "      <td>134.000000</td>\n",
       "      <td>81.000000</td>\n",
       "      <td>NaN</td>\n",
       "      <td>NaN</td>\n",
       "      <td>26.800000</td>\n",
       "      <td>0.186</td>\n",
       "      <td>69</td>\n",
       "      <td>0</td>\n",
       "    </tr>\n",
       "    <tr>\n",
       "      <th>129</th>\n",
       "      <td>0</td>\n",
       "      <td>139.500000</td>\n",
       "      <td>71.500000</td>\n",
       "      <td>58.0</td>\n",
       "      <td>NaN</td>\n",
       "      <td>28.950000</td>\n",
       "      <td>0.741</td>\n",
       "      <td>62</td>\n",
       "      <td>1</td>\n",
       "    </tr>\n",
       "    <tr>\n",
       "      <th>148</th>\n",
       "      <td>5</td>\n",
       "      <td>137.000000</td>\n",
       "      <td>78.666667</td>\n",
       "      <td>37.0</td>\n",
       "      <td>NaN</td>\n",
       "      <td>31.600000</td>\n",
       "      <td>0.218</td>\n",
       "      <td>65</td>\n",
       "      <td>0</td>\n",
       "    </tr>\n",
       "    <tr>\n",
       "      <th>221</th>\n",
       "      <td>2</td>\n",
       "      <td>157.000000</td>\n",
       "      <td>86.000000</td>\n",
       "      <td>NaN</td>\n",
       "      <td>NaN</td>\n",
       "      <td>30.375000</td>\n",
       "      <td>0.805</td>\n",
       "      <td>66</td>\n",
       "      <td>1</td>\n",
       "    </tr>\n",
       "    <tr>\n",
       "      <th>294</th>\n",
       "      <td>0</td>\n",
       "      <td>137.000000</td>\n",
       "      <td>78.666667</td>\n",
       "      <td>37.0</td>\n",
       "      <td>NaN</td>\n",
       "      <td>31.600000</td>\n",
       "      <td>0.254</td>\n",
       "      <td>65</td>\n",
       "      <td>0</td>\n",
       "    </tr>\n",
       "    <tr>\n",
       "      <th>362</th>\n",
       "      <td>5</td>\n",
       "      <td>137.000000</td>\n",
       "      <td>78.666667</td>\n",
       "      <td>37.0</td>\n",
       "      <td>NaN</td>\n",
       "      <td>31.600000</td>\n",
       "      <td>0.305</td>\n",
       "      <td>65</td>\n",
       "      <td>0</td>\n",
       "    </tr>\n",
       "    <tr>\n",
       "      <th>363</th>\n",
       "      <td>4</td>\n",
       "      <td>132.333333</td>\n",
       "      <td>72.666667</td>\n",
       "      <td>NaN</td>\n",
       "      <td>NaN</td>\n",
       "      <td>28.766667</td>\n",
       "      <td>0.520</td>\n",
       "      <td>67</td>\n",
       "      <td>1</td>\n",
       "    </tr>\n",
       "    <tr>\n",
       "      <th>453</th>\n",
       "      <td>2</td>\n",
       "      <td>119.000000</td>\n",
       "      <td>NaN</td>\n",
       "      <td>NaN</td>\n",
       "      <td>NaN</td>\n",
       "      <td>19.600000</td>\n",
       "      <td>0.832</td>\n",
       "      <td>72</td>\n",
       "      <td>0</td>\n",
       "    </tr>\n",
       "    <tr>\n",
       "      <th>456</th>\n",
       "      <td>1</td>\n",
       "      <td>139.500000</td>\n",
       "      <td>71.500000</td>\n",
       "      <td>58.0</td>\n",
       "      <td>NaN</td>\n",
       "      <td>28.950000</td>\n",
       "      <td>0.687</td>\n",
       "      <td>62</td>\n",
       "      <td>0</td>\n",
       "    </tr>\n",
       "    <tr>\n",
       "      <th>489</th>\n",
       "      <td>8</td>\n",
       "      <td>132.333333</td>\n",
       "      <td>72.666667</td>\n",
       "      <td>NaN</td>\n",
       "      <td>NaN</td>\n",
       "      <td>28.766667</td>\n",
       "      <td>0.551</td>\n",
       "      <td>67</td>\n",
       "      <td>0</td>\n",
       "    </tr>\n",
       "    <tr>\n",
       "      <th>495</th>\n",
       "      <td>6</td>\n",
       "      <td>157.000000</td>\n",
       "      <td>86.000000</td>\n",
       "      <td>NaN</td>\n",
       "      <td>NaN</td>\n",
       "      <td>30.375000</td>\n",
       "      <td>0.304</td>\n",
       "      <td>66</td>\n",
       "      <td>0</td>\n",
       "    </tr>\n",
       "    <tr>\n",
       "      <th>509</th>\n",
       "      <td>8</td>\n",
       "      <td>120.000000</td>\n",
       "      <td>78.000000</td>\n",
       "      <td>NaN</td>\n",
       "      <td>NaN</td>\n",
       "      <td>25.000000</td>\n",
       "      <td>0.409</td>\n",
       "      <td>64</td>\n",
       "      <td>0</td>\n",
       "    </tr>\n",
       "    <tr>\n",
       "      <th>537</th>\n",
       "      <td>0</td>\n",
       "      <td>132.333333</td>\n",
       "      <td>72.666667</td>\n",
       "      <td>NaN</td>\n",
       "      <td>NaN</td>\n",
       "      <td>28.766667</td>\n",
       "      <td>0.735</td>\n",
       "      <td>67</td>\n",
       "      <td>0</td>\n",
       "    </tr>\n",
       "    <tr>\n",
       "      <th>552</th>\n",
       "      <td>6</td>\n",
       "      <td>157.000000</td>\n",
       "      <td>86.000000</td>\n",
       "      <td>NaN</td>\n",
       "      <td>NaN</td>\n",
       "      <td>30.375000</td>\n",
       "      <td>0.247</td>\n",
       "      <td>66</td>\n",
       "      <td>0</td>\n",
       "    </tr>\n",
       "    <tr>\n",
       "      <th>579</th>\n",
       "      <td>2</td>\n",
       "      <td>139.500000</td>\n",
       "      <td>71.500000</td>\n",
       "      <td>58.0</td>\n",
       "      <td>NaN</td>\n",
       "      <td>28.950000</td>\n",
       "      <td>0.575</td>\n",
       "      <td>62</td>\n",
       "      <td>1</td>\n",
       "    </tr>\n",
       "    <tr>\n",
       "      <th>582</th>\n",
       "      <td>12</td>\n",
       "      <td>139.500000</td>\n",
       "      <td>71.500000</td>\n",
       "      <td>58.0</td>\n",
       "      <td>NaN</td>\n",
       "      <td>28.950000</td>\n",
       "      <td>0.259</td>\n",
       "      <td>62</td>\n",
       "      <td>0</td>\n",
       "    </tr>\n",
       "    <tr>\n",
       "      <th>666</th>\n",
       "      <td>4</td>\n",
       "      <td>145.000000</td>\n",
       "      <td>82.000000</td>\n",
       "      <td>18.0</td>\n",
       "      <td>NaN</td>\n",
       "      <td>32.500000</td>\n",
       "      <td>0.235</td>\n",
       "      <td>70</td>\n",
       "      <td>1</td>\n",
       "    </tr>\n",
       "    <tr>\n",
       "      <th>674</th>\n",
       "      <td>8</td>\n",
       "      <td>91.000000</td>\n",
       "      <td>82.000000</td>\n",
       "      <td>NaN</td>\n",
       "      <td>NaN</td>\n",
       "      <td>35.600000</td>\n",
       "      <td>0.587</td>\n",
       "      <td>68</td>\n",
       "      <td>0</td>\n",
       "    </tr>\n",
       "    <tr>\n",
       "      <th>684</th>\n",
       "      <td>5</td>\n",
       "      <td>134.000000</td>\n",
       "      <td>81.000000</td>\n",
       "      <td>NaN</td>\n",
       "      <td>NaN</td>\n",
       "      <td>26.800000</td>\n",
       "      <td>0.640</td>\n",
       "      <td>69</td>\n",
       "      <td>0</td>\n",
       "    </tr>\n",
       "    <tr>\n",
       "      <th>759</th>\n",
       "      <td>6</td>\n",
       "      <td>157.000000</td>\n",
       "      <td>86.000000</td>\n",
       "      <td>NaN</td>\n",
       "      <td>NaN</td>\n",
       "      <td>30.375000</td>\n",
       "      <td>0.278</td>\n",
       "      <td>66</td>\n",
       "      <td>1</td>\n",
       "    </tr>\n",
       "  </tbody>\n",
       "</table>\n",
       "</div>"
      ],
      "text/plain": [
       "     Pregnancies     Glucose  BloodPressure  SkinThickness  Insulin  \\\n",
       "123            5  134.000000      81.000000            NaN      NaN   \n",
       "129            0  139.500000      71.500000           58.0      NaN   \n",
       "148            5  137.000000      78.666667           37.0      NaN   \n",
       "221            2  157.000000      86.000000            NaN      NaN   \n",
       "294            0  137.000000      78.666667           37.0      NaN   \n",
       "362            5  137.000000      78.666667           37.0      NaN   \n",
       "363            4  132.333333      72.666667            NaN      NaN   \n",
       "453            2  119.000000            NaN            NaN      NaN   \n",
       "456            1  139.500000      71.500000           58.0      NaN   \n",
       "489            8  132.333333      72.666667            NaN      NaN   \n",
       "495            6  157.000000      86.000000            NaN      NaN   \n",
       "509            8  120.000000      78.000000            NaN      NaN   \n",
       "537            0  132.333333      72.666667            NaN      NaN   \n",
       "552            6  157.000000      86.000000            NaN      NaN   \n",
       "579            2  139.500000      71.500000           58.0      NaN   \n",
       "582           12  139.500000      71.500000           58.0      NaN   \n",
       "666            4  145.000000      82.000000           18.0      NaN   \n",
       "674            8   91.000000      82.000000            NaN      NaN   \n",
       "684            5  134.000000      81.000000            NaN      NaN   \n",
       "759            6  157.000000      86.000000            NaN      NaN   \n",
       "\n",
       "           BMI  DiabetesPedigreeFunction  Age  Outcome  \n",
       "123  26.800000                     0.186   69        0  \n",
       "129  28.950000                     0.741   62        1  \n",
       "148  31.600000                     0.218   65        0  \n",
       "221  30.375000                     0.805   66        1  \n",
       "294  31.600000                     0.254   65        0  \n",
       "362  31.600000                     0.305   65        0  \n",
       "363  28.766667                     0.520   67        1  \n",
       "453  19.600000                     0.832   72        0  \n",
       "456  28.950000                     0.687   62        0  \n",
       "489  28.766667                     0.551   67        0  \n",
       "495  30.375000                     0.304   66        0  \n",
       "509  25.000000                     0.409   64        0  \n",
       "537  28.766667                     0.735   67        0  \n",
       "552  30.375000                     0.247   66        0  \n",
       "579  28.950000                     0.575   62        1  \n",
       "582  28.950000                     0.259   62        0  \n",
       "666  32.500000                     0.235   70        1  \n",
       "674  35.600000                     0.587   68        0  \n",
       "684  26.800000                     0.640   69        0  \n",
       "759  30.375000                     0.278   66        1  "
      ]
     },
     "execution_count": 10,
     "metadata": {},
     "output_type": "execute_result"
    }
   ],
   "source": [
    "remaining_nans = df_with_nan_unique_age[df_with_nan_unique_age.isna().any(axis = 1)]\n",
    "remaining_nans"
   ]
  },
  {
   "cell_type": "markdown",
   "id": "891b9022-84ef-4d7e-a560-38cc182f96c0",
   "metadata": {},
   "source": [
    "Для всех пациентов с оставшимися NaN-значениями неизвестен параметр **Insulin**, поэтому попробуем взять его значения для данного диапазона возрастов из той части датасета, где он известен."
   ]
  },
  {
   "cell_type": "code",
   "execution_count": 11,
   "id": "eb6dde36-fc37-493f-807f-015fb60e86cf",
   "metadata": {},
   "outputs": [
    {
     "name": "stdout",
     "output_type": "stream",
     "text": [
      "Минимальный возраст оставшихся пациентов: 62.\n",
      "Максимальный возраст оставшихся пациентов: 72.\n"
     ]
    }
   ],
   "source": [
    "min_age = remaining_nans.Age.min()\n",
    "print(\"Минимальный возраст оставшихся пациентов: \"+str(min_age)+\".\")\n",
    "max_age = remaining_nans.Age.max()\n",
    "print(\"Максимальный возраст оставшихся пациентов: \"+str(max_age)+\".\")"
   ]
  },
  {
   "cell_type": "code",
   "execution_count": 12,
   "id": "6bb039b8-c3be-4a89-8169-808c3edd1079",
   "metadata": {},
   "outputs": [
    {
     "name": "stdout",
     "output_type": "stream",
     "text": [
      "Возможные значения столбца Insulin: [180.]\n"
     ]
    }
   ],
   "source": [
    "possible_insulin = df_with_nan_unique_age.loc[((df_with_nan_unique_age[\"Age\"] <= max_age) & (df_with_nan_unique_age[\"Age\"] >= min_age)), \"Insulin\"].dropna().unique()\n",
    "print(\"Возможные значения столбца Insulin:\", possible_insulin)"
   ]
  },
  {
   "cell_type": "markdown",
   "id": "c63343b2-4981-4584-a49f-ef7b12720c91",
   "metadata": {},
   "source": [
    "Для пацентов в возрасте от 62 до 72 лет в датасете нашлось только одно значение параметра **Insulin** - 180. Поэтому заменим значения NaN данного столбца на 180."
   ]
  },
  {
   "cell_type": "code",
   "execution_count": 13,
   "id": "21357e4d-dc9f-4c24-a3b5-b03d0e376c92",
   "metadata": {},
   "outputs": [],
   "source": [
    "df_with_nan_unique_age[\"Insulin\"] = df_with_nan_unique_age[\"Insulin\"].fillna(possible_insulin[0])"
   ]
  },
  {
   "cell_type": "markdown",
   "id": "bc78d194-fb06-4779-b5c5-a65fecb87ae5",
   "metadata": {},
   "source": [
    "Остальные NaN-значения заменим средними значениями по столбцам из таблицы remaining_nans."
   ]
  },
  {
   "cell_type": "code",
   "execution_count": 14,
   "id": "ed0b7c95-7932-4e3d-947f-f1e5465994fc",
   "metadata": {},
   "outputs": [],
   "source": [
    "for target_par in repl_pars:\n",
    "    mean_value = remaining_nans[target_par].mean()\n",
    "    df_with_nan_unique_age[target_par] = df_with_nan_unique_age[target_par].fillna(mean_value)"
   ]
  },
  {
   "cell_type": "code",
   "execution_count": 15,
   "id": "d6b15a53-ece8-4424-94ef-f549130178f3",
   "metadata": {},
   "outputs": [
    {
     "data": {
      "text/plain": [
       "Pregnancies                 0\n",
       "Glucose                     0\n",
       "BloodPressure               0\n",
       "SkinThickness               0\n",
       "Insulin                     0\n",
       "BMI                         0\n",
       "DiabetesPedigreeFunction    0\n",
       "Age                         0\n",
       "Outcome                     0\n",
       "dtype: int64"
      ]
     },
     "execution_count": 15,
     "metadata": {},
     "output_type": "execute_result"
    }
   ],
   "source": [
    "df_with_nan_unique_age.isnull().sum()"
   ]
  },
  {
   "cell_type": "markdown",
   "id": "f522296c-b1b6-40c8-b9d6-3fb6d61d5782",
   "metadata": {},
   "source": [
    "NaN-значения для всех столбцов были успешно заменены. Скопируем отредактированный датасет в переменную оригинального."
   ]
  },
  {
   "cell_type": "code",
   "execution_count": 16,
   "id": "c64c4028-50e0-4bbc-be17-04e94241c019",
   "metadata": {},
   "outputs": [],
   "source": [
    "df = df_with_nan_unique_age.copy(deep = True)"
   ]
  },
  {
   "cell_type": "markdown",
   "id": "092466c5-5c9c-4633-a053-1db937a957c6",
   "metadata": {},
   "source": [
    "## Оптимизация входных данных"
   ]
  },
  {
   "cell_type": "markdown",
   "id": "51ec626f-cca1-4d8b-946f-5c6abb2919f2",
   "metadata": {},
   "source": [
    "Сначала необходимо произвести масштабирование признаков из датасета. Для этого воспользуемся **StandardScaler**."
   ]
  },
  {
   "cell_type": "code",
   "execution_count": 17,
   "id": "9fda50eb-90f0-425a-a353-c0b4fdbeb18a",
   "metadata": {},
   "outputs": [],
   "source": [
    "sc = StandardScaler()\n",
    "x = df.drop(\"Outcome\", axis = 1).values.astype(float)\n",
    "y = df[\"Outcome\"]"
   ]
  },
  {
   "cell_type": "markdown",
   "id": "0fd6ff2a-6d57-4943-abf2-38e95fffd376",
   "metadata": {},
   "source": [
    "Так как искомый результат **Outcome** уже представлен бинарно (в виде 0 и 1), то нам не надо его как-то изменять."
   ]
  },
  {
   "cell_type": "markdown",
   "id": "a4f1f950-1de8-4da3-8c23-1048253afa2e",
   "metadata": {},
   "source": [
    "## Построение нейронной сети"
   ]
  },
  {
   "cell_type": "markdown",
   "id": "e6af25ec-11d8-41a4-a7de-6d3536d6683c",
   "metadata": {},
   "source": [
    "Для предсказания диабета будет построена модель полносвязной нейронной сети. Для построения модели с наилучшей точностью предсказания необходимо найти оптимальные значения следующих параметров:\n",
    "- **epochs** - количество эпох при обучении модели.\n",
    "- **batch_size** - объём данных, подаваемых модели между вычислениями функции потерь.\n",
    "\n",
    "Как дополнение можно также найти оптимальные значения следующих параметров:\n",
    "- **optimizer** - название оптимизатора, который будет использован Keras при компиляции модели.\n",
    "- **kernel_initializer** - название способа начальной инициализации весов нейронов.\n",
    "- **activation** - название способа активации нейронов."
   ]
  },
  {
   "cell_type": "markdown",
   "id": "757b0f34-9d0d-4444-872d-9ea0a3ca283b",
   "metadata": {},
   "source": [
    "Разделим датасет на тренировочную, тестовую и валидационную выборки. Будем использовать следующее соотношение размеров выборок:\n",
    "- Тренировочная выборка - 75%.\n",
    "- Валидационная выборка - 15%.\n",
    "- Тестовая выборка - 10%."
   ]
  },
  {
   "cell_type": "code",
   "execution_count": 18,
   "id": "12dacb3e-e2d7-483a-addf-c019b61376f0",
   "metadata": {},
   "outputs": [],
   "source": [
    "train_ratio = 0.75\n",
    "valid_ratio = 0.15\n",
    "test_ratio = 0.1\n",
    "x_train, x_test, y_train, y_test = train_test_split(x, y, test_size = 1.0-train_ratio, random_state = seed)\n",
    "x_valid, x_test, y_valid, y_test = train_test_split(x_test, y_test, test_size = test_ratio/(test_ratio+valid_ratio), random_state = seed)"
   ]
  },
  {
   "cell_type": "markdown",
   "id": "9e1d1b62-39c1-4003-9f89-23f27b39ab94",
   "metadata": {},
   "source": [
    "Произведём масштабирование признаков - воспользуемся **StandardScaler**."
   ]
  },
  {
   "cell_type": "code",
   "execution_count": 19,
   "id": "759249fd-9b06-4b69-bb4c-a3b4791119a5",
   "metadata": {},
   "outputs": [],
   "source": [
    "sc = StandardScaler()\n",
    "x_train = sc.fit_transform(x_train)\n",
    "x_test = sc.transform(x_test)\n",
    "x_valid = sc.transform(x_valid)\n",
    "x = sc.transform(x)"
   ]
  },
  {
   "cell_type": "markdown",
   "id": "5bf506d2-ad92-4132-a705-64ab12d6817a",
   "metadata": {},
   "source": [
    "Я собираюсь попробовать несколько топологий нейронной сети, поэтому напишу одну общую функцию для построения оптимальной модели и использую её на нескольких вариантах полносвязной нейронной сети. У всех вариантов будет один общий слой - слой вывода, состоящий из одного нейрона с сигмоидной (**sigmoid**) активацией, а также общая функция потерь - бинарная кросс-энтропия (**loss = \"binary_crossentropy\"**) и общая метрика - точность (**metrics = [\"accuracy\"]**)."
   ]
  },
  {
   "cell_type": "code",
   "execution_count": 20,
   "id": "155742b7-5b42-4c05-be52-7b3242655950",
   "metadata": {},
   "outputs": [],
   "source": [
    "def get_best_model_params(model_func, n_splits, known_pars, potential_pars):\n",
    "    '''\n",
    "    Поиск лучших параметров для модели model_func среди потенциальных параметров potential_pars при том, что известны параметры known_pars и количество разделений для KFold n_splits.\n",
    "    '''\n",
    "    model_kfold = KFold(n_splits = n_splits, shuffle = True, random_state = seed)\n",
    "    model_classifier = KerasClassifier(model = model_func, verbose = 0, **known_pars)\n",
    "    model_grid = GridSearchCV(estimator = model_classifier, param_grid = potential_pars, cv = model_kfold, verbose = 1)\n",
    "    model_grid_result = model_grid.fit(x_train, y_train, validation_data = (x_valid, y_valid), verbose = 0)\n",
    "    return model_grid_result.best_params_, model_grid_result.best_score_"
   ]
  },
  {
   "cell_type": "code",
   "execution_count": 21,
   "id": "fff042ba-5082-4b58-93b6-72de35804d97",
   "metadata": {},
   "outputs": [],
   "source": [
    "def get_all_best_seq_model_params(model_func, do_all_at_once = False):\n",
    "    '''\n",
    "    Поиск наилучших параметров для модели model_func.\n",
    "    '''\n",
    "    n_splits = 10\n",
    "    current_pars = {}\n",
    "    current_pars.update({\"epochs\": 10})\n",
    "    current_pars.update({\"batch_size\": 16})\n",
    "    current_pars.update({\"optimizer\": \"adam\"})\n",
    "    current_pars.update({\"activation\": \"relu\"})\n",
    "    current_pars.update({\"init\": \"normal\"})\n",
    "    epoches = [5, 10, 20, 50, 100]\n",
    "    batches = [16, 32, 64, 128]\n",
    "    optimrs = [\"rmsprop\", \"adam\", \"sgd\"]\n",
    "    actives = [\"softmax\", \"relu\", \"tanh\", \"linear\"]\n",
    "    inities = [\"uniform\", \"normal\", \"zero\"]\n",
    "    potential_pars = {}\n",
    "    if (do_all_at_once):\n",
    "        #Ищем сразу все параметры. Это 720 вариаций, ещё умножить на n_splits для KFold.\n",
    "        print(\"Поиск всех параметров.\")\n",
    "        potential_pars.update({\"epochs\": epoches})\n",
    "        potential_pars.update({\"batch_size\": batches})\n",
    "        potential_pars.update({\"activation\": actives})\n",
    "        potential_pars.update({\"init\": inities})\n",
    "        potential_pars.update({\"optimizer\": optimrs})\n",
    "        print(\"Параметры для модели в данный момент:\", current_pars)\n",
    "        print(\"Потенциальные параметры для модели:\", potential_pars)\n",
    "        best_potential_pars, best_score = get_best_model_params(model_func, n_splits, current_pars, potential_pars)\n",
    "        current_pars.update(best_potential_pars)\n",
    "        return current_pars, best_score\n",
    "    #Шаг 1 - ищем параметры epochs и batch_size.\n",
    "    potential_pars.update({\"epochs\": epoches})\n",
    "    potential_pars.update({\"batch_size\": batches})\n",
    "    print(\"Шаг 1 - поиск epochs и batch_size.\")\n",
    "    print(\"Параметры для модели в данный момент:\", current_pars)\n",
    "    print(\"Потенциальные параметры для модели:\", potential_pars)\n",
    "    best_potential_pars, best_score = get_best_model_params(model_func, n_splits, current_pars, potential_pars)\n",
    "    current_pars.update(best_potential_pars)\n",
    "    #Шаг 2 - ищем параметры activation и init.\n",
    "    potential_pars = {}\n",
    "    potential_pars.update({\"activation\": actives})\n",
    "    potential_pars.update({\"init\": inities})\n",
    "    print(\"Шаг 2 - поиск activation и init.\")\n",
    "    print(\"Параметры для модели в данный момент:\", current_pars)\n",
    "    print(\"Потенциальные параметры для модели:\", potential_pars)\n",
    "    best_potential_pars, best_score = get_best_model_params(model_func, n_splits, current_pars, potential_pars)\n",
    "    current_pars.update(best_potential_pars)\n",
    "    #Шаг 3 - ищем параметр optimizer.\n",
    "    potential_pars = {}\n",
    "    potential_pars.update({\"optimizer\": optimrs})\n",
    "    print(\"Шаг 3 - поиск optimizer.\")\n",
    "    print(\"Параметры для модели в данный момент:\", current_pars)\n",
    "    print(\"Потенциальные параметры для модели:\", potential_pars)\n",
    "    best_potential_pars, best_score = get_best_model_params(model_func, n_splits, current_pars, potential_pars)\n",
    "    current_pars.update(best_potential_pars)\n",
    "    return current_pars, best_score"
   ]
  },
  {
   "cell_type": "markdown",
   "id": "8c67e5b3-950e-4220-98fd-1fc94fd1816f",
   "metadata": {},
   "source": [
    "### Первый вариант модели"
   ]
  },
  {
   "cell_type": "code",
   "execution_count": 22,
   "id": "84cf1132-9aaf-44e8-8cf8-4884a6c01a21",
   "metadata": {},
   "outputs": [],
   "source": [
    "def pima_model_seq1(init = \"normal\", optimizer = \"adam\", activation = \"relu\"):\n",
    "    model = Sequential()\n",
    "    model.add(Dense(8, input_dim = x.shape[1], kernel_initializer = init, activation = activation))\n",
    "    model.add(Dense(16, kernel_initializer = init, activation = activation))\n",
    "    model.add(Dense(8, kernel_initializer = init, activation = activation))\n",
    "    model.add(Dense(1, kernel_initializer = init, activation = \"sigmoid\"))\n",
    "    model.compile(loss = \"binary_crossentropy\", optimizer = optimizer, metrics = [\"accuracy\"])\n",
    "    return model"
   ]
  },
  {
   "cell_type": "code",
   "execution_count": 23,
   "id": "ae9baf53-adf5-4d54-bd26-4e483ce22dc8",
   "metadata": {},
   "outputs": [
    {
     "name": "stdout",
     "output_type": "stream",
     "text": [
      "Шаг 1 - поиск epochs и batch_size.\n",
      "Параметры для модели в данный момент: {'epochs': 10, 'batch_size': 16, 'optimizer': 'adam', 'activation': 'relu', 'init': 'normal'}\n",
      "Потенциальные параметры для модели: {'epochs': [5, 10, 20, 50, 100], 'batch_size': [16, 32, 64, 128]}\n",
      "Fitting 10 folds for each of 20 candidates, totalling 200 fits\n",
      "WARNING:tensorflow:5 out of the last 13 calls to <function Model.make_predict_function.<locals>.predict_function at 0x00000270B832DFC0> triggered tf.function retracing. Tracing is expensive and the excessive number of tracings could be due to (1) creating @tf.function repeatedly in a loop, (2) passing tensors with different shapes, (3) passing Python objects instead of tensors. For (1), please define your @tf.function outside of the loop. For (2), @tf.function has reduce_retracing=True option that can avoid unnecessary retracing. For (3), please refer to https://www.tensorflow.org/guide/function#controlling_retracing and https://www.tensorflow.org/api_docs/python/tf/function for  more details.\n",
      "WARNING:tensorflow:5 out of the last 11 calls to <function Model.make_predict_function.<locals>.predict_function at 0x00000270B832F7F0> triggered tf.function retracing. Tracing is expensive and the excessive number of tracings could be due to (1) creating @tf.function repeatedly in a loop, (2) passing tensors with different shapes, (3) passing Python objects instead of tensors. For (1), please define your @tf.function outside of the loop. For (2), @tf.function has reduce_retracing=True option that can avoid unnecessary retracing. For (3), please refer to https://www.tensorflow.org/guide/function#controlling_retracing and https://www.tensorflow.org/api_docs/python/tf/function for  more details.\n",
      "Шаг 2 - поиск activation и init.\n",
      "Параметры для модели в данный момент: {'epochs': 50, 'batch_size': 32, 'optimizer': 'adam', 'activation': 'relu', 'init': 'normal'}\n",
      "Потенциальные параметры для модели: {'activation': ['softmax', 'relu', 'tanh', 'linear'], 'init': ['uniform', 'normal', 'zero']}\n",
      "Fitting 10 folds for each of 12 candidates, totalling 120 fits\n",
      "Шаг 3 - поиск optimizer.\n",
      "Параметры для модели в данный момент: {'epochs': 50, 'batch_size': 32, 'optimizer': 'adam', 'activation': 'tanh', 'init': 'uniform'}\n",
      "Потенциальные параметры для модели: {'optimizer': ['rmsprop', 'adam', 'sgd']}\n",
      "Fitting 10 folds for each of 3 candidates, totalling 30 fits\n"
     ]
    }
   ],
   "source": [
    "best_pars_seq1, best_score_seq1 = get_all_best_seq_model_params(pima_model_seq1)"
   ]
  },
  {
   "cell_type": "code",
   "execution_count": 24,
   "id": "0c5125e9-a093-4f07-a74e-6e3c6e1ede58",
   "metadata": {},
   "outputs": [
    {
     "name": "stdout",
     "output_type": "stream",
     "text": [
      "Лучшие параметры для первого варианта модели: {'epochs': 50, 'batch_size': 32, 'optimizer': 'adam', 'activation': 'tanh', 'init': 'uniform'}\n",
      "Средняя точность: 0.6958257713248639\n",
      "Epoch 1/50\n",
      "18/18 [==============================] - 1s 8ms/step - loss: 0.6914 - accuracy: 0.6562 - val_loss: 0.6893 - val_accuracy: 0.6522\n",
      "Epoch 2/50\n",
      "18/18 [==============================] - 0s 2ms/step - loss: 0.6858 - accuracy: 0.6545 - val_loss: 0.6818 - val_accuracy: 0.6522\n",
      "Epoch 3/50\n",
      "18/18 [==============================] - 0s 3ms/step - loss: 0.6717 - accuracy: 0.6545 - val_loss: 0.6639 - val_accuracy: 0.6435\n",
      "Epoch 4/50\n",
      "18/18 [==============================] - 0s 2ms/step - loss: 0.6398 - accuracy: 0.6962 - val_loss: 0.6360 - val_accuracy: 0.6783\n",
      "Epoch 5/50\n",
      "18/18 [==============================] - 0s 2ms/step - loss: 0.6062 - accuracy: 0.6892 - val_loss: 0.6214 - val_accuracy: 0.6609\n",
      "Epoch 6/50\n",
      "18/18 [==============================] - 0s 3ms/step - loss: 0.5881 - accuracy: 0.6910 - val_loss: 0.6182 - val_accuracy: 0.6783\n",
      "Epoch 7/50\n",
      "18/18 [==============================] - 0s 2ms/step - loss: 0.5805 - accuracy: 0.6962 - val_loss: 0.6168 - val_accuracy: 0.6870\n",
      "Epoch 8/50\n",
      "18/18 [==============================] - 0s 2ms/step - loss: 0.5762 - accuracy: 0.7014 - val_loss: 0.6151 - val_accuracy: 0.6783\n",
      "Epoch 9/50\n",
      "18/18 [==============================] - 0s 3ms/step - loss: 0.5738 - accuracy: 0.7014 - val_loss: 0.6150 - val_accuracy: 0.6783\n",
      "Epoch 10/50\n",
      "18/18 [==============================] - 0s 3ms/step - loss: 0.5727 - accuracy: 0.7066 - val_loss: 0.6113 - val_accuracy: 0.6870\n",
      "Epoch 11/50\n",
      "18/18 [==============================] - 0s 2ms/step - loss: 0.5716 - accuracy: 0.7031 - val_loss: 0.6146 - val_accuracy: 0.6870\n",
      "Epoch 12/50\n",
      "18/18 [==============================] - 0s 2ms/step - loss: 0.5699 - accuracy: 0.7066 - val_loss: 0.6124 - val_accuracy: 0.6870\n",
      "Epoch 13/50\n",
      "18/18 [==============================] - 0s 2ms/step - loss: 0.5693 - accuracy: 0.7118 - val_loss: 0.6126 - val_accuracy: 0.6696\n",
      "Epoch 14/50\n",
      "18/18 [==============================] - 0s 2ms/step - loss: 0.5682 - accuracy: 0.7135 - val_loss: 0.6116 - val_accuracy: 0.6870\n",
      "Epoch 15/50\n",
      "18/18 [==============================] - 0s 2ms/step - loss: 0.5685 - accuracy: 0.7101 - val_loss: 0.6122 - val_accuracy: 0.6783\n",
      "Epoch 16/50\n",
      "18/18 [==============================] - 0s 2ms/step - loss: 0.5678 - accuracy: 0.7118 - val_loss: 0.6125 - val_accuracy: 0.6696\n",
      "Epoch 17/50\n",
      "18/18 [==============================] - 0s 3ms/step - loss: 0.5676 - accuracy: 0.7083 - val_loss: 0.6126 - val_accuracy: 0.6696\n",
      "Epoch 18/50\n",
      "18/18 [==============================] - 0s 3ms/step - loss: 0.5670 - accuracy: 0.7083 - val_loss: 0.6128 - val_accuracy: 0.6783\n",
      "Epoch 19/50\n",
      "18/18 [==============================] - 0s 2ms/step - loss: 0.5674 - accuracy: 0.7083 - val_loss: 0.6147 - val_accuracy: 0.6783\n",
      "Epoch 20/50\n",
      "18/18 [==============================] - 0s 3ms/step - loss: 0.5669 - accuracy: 0.7066 - val_loss: 0.6123 - val_accuracy: 0.6696\n",
      "Epoch 21/50\n",
      "18/18 [==============================] - 0s 2ms/step - loss: 0.5670 - accuracy: 0.7066 - val_loss: 0.6128 - val_accuracy: 0.6783\n",
      "Epoch 22/50\n",
      "18/18 [==============================] - 0s 2ms/step - loss: 0.5665 - accuracy: 0.7066 - val_loss: 0.6141 - val_accuracy: 0.6783\n",
      "Epoch 23/50\n",
      "18/18 [==============================] - 0s 2ms/step - loss: 0.5666 - accuracy: 0.7118 - val_loss: 0.6162 - val_accuracy: 0.6783\n",
      "Epoch 24/50\n",
      "18/18 [==============================] - 0s 2ms/step - loss: 0.5662 - accuracy: 0.7049 - val_loss: 0.6143 - val_accuracy: 0.6609\n",
      "Epoch 25/50\n",
      "18/18 [==============================] - 0s 2ms/step - loss: 0.5665 - accuracy: 0.7101 - val_loss: 0.6132 - val_accuracy: 0.6609\n",
      "Epoch 26/50\n",
      "18/18 [==============================] - 0s 3ms/step - loss: 0.5661 - accuracy: 0.7101 - val_loss: 0.6133 - val_accuracy: 0.6609\n",
      "Epoch 27/50\n",
      "18/18 [==============================] - 0s 2ms/step - loss: 0.5661 - accuracy: 0.7118 - val_loss: 0.6155 - val_accuracy: 0.6609\n",
      "Epoch 28/50\n",
      "18/18 [==============================] - 0s 2ms/step - loss: 0.5660 - accuracy: 0.7101 - val_loss: 0.6164 - val_accuracy: 0.6696\n",
      "Epoch 29/50\n",
      "18/18 [==============================] - 0s 3ms/step - loss: 0.5657 - accuracy: 0.7135 - val_loss: 0.6164 - val_accuracy: 0.6696\n",
      "Epoch 30/50\n",
      "18/18 [==============================] - 0s 2ms/step - loss: 0.5656 - accuracy: 0.7135 - val_loss: 0.6145 - val_accuracy: 0.6609\n",
      "Epoch 31/50\n",
      "18/18 [==============================] - 0s 2ms/step - loss: 0.5657 - accuracy: 0.7083 - val_loss: 0.6130 - val_accuracy: 0.6696\n",
      "Epoch 32/50\n",
      "18/18 [==============================] - 0s 3ms/step - loss: 0.5656 - accuracy: 0.7066 - val_loss: 0.6154 - val_accuracy: 0.6609\n",
      "Epoch 33/50\n",
      "18/18 [==============================] - 0s 2ms/step - loss: 0.5653 - accuracy: 0.7083 - val_loss: 0.6143 - val_accuracy: 0.6609\n",
      "Epoch 34/50\n",
      "18/18 [==============================] - 0s 2ms/step - loss: 0.5656 - accuracy: 0.7101 - val_loss: 0.6152 - val_accuracy: 0.6609\n",
      "Epoch 35/50\n",
      "18/18 [==============================] - 0s 3ms/step - loss: 0.5652 - accuracy: 0.7118 - val_loss: 0.6140 - val_accuracy: 0.6696\n",
      "Epoch 36/50\n",
      "18/18 [==============================] - 0s 2ms/step - loss: 0.5652 - accuracy: 0.7101 - val_loss: 0.6148 - val_accuracy: 0.6783\n",
      "Epoch 37/50\n",
      "18/18 [==============================] - 0s 2ms/step - loss: 0.5652 - accuracy: 0.7118 - val_loss: 0.6147 - val_accuracy: 0.6696\n",
      "Epoch 38/50\n",
      "18/18 [==============================] - 0s 3ms/step - loss: 0.5649 - accuracy: 0.7118 - val_loss: 0.6145 - val_accuracy: 0.6696\n",
      "Epoch 39/50\n",
      "18/18 [==============================] - 0s 2ms/step - loss: 0.5652 - accuracy: 0.7135 - val_loss: 0.6147 - val_accuracy: 0.6609\n",
      "Epoch 40/50\n",
      "18/18 [==============================] - 0s 2ms/step - loss: 0.5650 - accuracy: 0.7135 - val_loss: 0.6163 - val_accuracy: 0.6783\n",
      "Epoch 41/50\n",
      "18/18 [==============================] - 0s 3ms/step - loss: 0.5649 - accuracy: 0.7135 - val_loss: 0.6140 - val_accuracy: 0.6609\n",
      "Epoch 42/50\n",
      "18/18 [==============================] - 0s 3ms/step - loss: 0.5651 - accuracy: 0.7135 - val_loss: 0.6159 - val_accuracy: 0.6783\n",
      "Epoch 43/50\n",
      "18/18 [==============================] - 0s 2ms/step - loss: 0.5648 - accuracy: 0.7118 - val_loss: 0.6137 - val_accuracy: 0.6696\n",
      "Epoch 44/50\n",
      "18/18 [==============================] - 0s 2ms/step - loss: 0.5649 - accuracy: 0.7101 - val_loss: 0.6133 - val_accuracy: 0.6609\n",
      "Epoch 45/50\n",
      "18/18 [==============================] - 0s 2ms/step - loss: 0.5648 - accuracy: 0.7118 - val_loss: 0.6137 - val_accuracy: 0.6783\n",
      "Epoch 46/50\n",
      "18/18 [==============================] - 0s 2ms/step - loss: 0.5650 - accuracy: 0.7101 - val_loss: 0.6131 - val_accuracy: 0.6609\n",
      "Epoch 47/50\n",
      "18/18 [==============================] - 0s 2ms/step - loss: 0.5658 - accuracy: 0.7031 - val_loss: 0.6177 - val_accuracy: 0.6783\n",
      "Epoch 48/50\n",
      "18/18 [==============================] - 0s 2ms/step - loss: 0.5643 - accuracy: 0.7118 - val_loss: 0.6137 - val_accuracy: 0.6696\n",
      "Epoch 49/50\n",
      "18/18 [==============================] - 0s 2ms/step - loss: 0.5644 - accuracy: 0.7118 - val_loss: 0.6131 - val_accuracy: 0.6696\n",
      "Epoch 50/50\n",
      "18/18 [==============================] - 0s 2ms/step - loss: 0.5647 - accuracy: 0.7118 - val_loss: 0.6120 - val_accuracy: 0.6609\n",
      "3/3 [==============================] - 0s 1ms/step\n",
      "Точность прогнозирования: 66.23376623376623%.\n"
     ]
    },
    {
     "data": {
      "image/png": "[encoded data removed]",
      "text/plain": [
       "<Figure size 432x288 with 1 Axes>"
      ]
     },
     "metadata": {
      "needs_background": "light"
     },
     "output_type": "display_data"
    },
    {
     "data": {
      "image/png": "[encoded data removed]",
      "text/plain": [
       "<Figure size 432x288 with 1 Axes>"
      ]
     },
     "metadata": {
      "needs_background": "light"
     },
     "output_type": "display_data"
    }
   ],
   "source": [
    "print(\"Лучшие параметры для первого варианта модели:\", best_pars_seq1)\n",
    "print(\"Средняя точность:\", best_score_seq1)\n",
    "best_model_seq1 = pima_model_seq1(init = best_pars_seq1[\"init\"], optimizer = best_pars_seq1[\"optimizer\"], activation = best_pars_seq1[\"activation\"])\n",
    "best_history_seq1 = best_model_seq1.fit(x_train, y_train, epochs = best_pars_seq1[\"epochs\"], batch_size = best_pars_seq1[\"batch_size\"], validation_data = (x_valid, y_valid), verbose = 1)\n",
    "y_pred = best_model_seq1.predict(x_test)\n",
    "y_pred_binary = (y_pred > 0.5).astype(\"int32\")\n",
    "seq1_accuracy = accuracy_score(y_test, y_pred_binary)\n",
    "print(\"Точность прогнозирования: \"+str(seq1_accuracy*100.0)+\"%.\")\n",
    "plt.figure()\n",
    "plt.plot(best_history_seq1.history['accuracy'])\n",
    "plt.plot(best_history_seq1.history['val_accuracy'])\n",
    "plt.title(\"Точность первого варианта модели\")\n",
    "plt.xlabel(\"Эпохи\")\n",
    "plt.ylabel(\"Точность\")\n",
    "plt.legend([\"train\", \"val\"], loc = \"upper left\")\n",
    "plt.show()\n",
    "plt.figure()\n",
    "plt.plot(best_history_seq1.history['loss'])\n",
    "plt.plot(best_history_seq1.history['val_loss'])\n",
    "plt.title(\"Потери первого варианта модели\")\n",
    "plt.xlabel(\"Эпохи\")\n",
    "plt.ylabel(\"Потери\")\n",
    "plt.legend([\"train\", \"val\"], loc = \"upper left\")\n",
    "plt.show()"
   ]
  },
  {
   "cell_type": "markdown",
   "id": "eb0d0cb4-cebd-410a-b59c-ea038ec4d6f6",
   "metadata": {},
   "source": [
    "### Второй вариант модели"
   ]
  },
  {
   "cell_type": "code",
   "execution_count": 25,
   "id": "66eec7d1-fb3a-46ad-97e1-8790c9a73023",
   "metadata": {},
   "outputs": [],
   "source": [
    "def pima_model_seq2(init = \"normal\", optimizer = \"adam\", activation = \"relu\"):\n",
    "    model = Sequential()\n",
    "    model.add(Dense(16, input_dim = x.shape[1], kernel_initializer = init, activation = activation))\n",
    "    model.add(Dense(8, kernel_initializer = init, activation = activation))\n",
    "    model.add(Dense(4, kernel_initializer = init, activation = activation))\n",
    "    model.add(Dense(1, kernel_initializer = init, activation = 'sigmoid'))\n",
    "    model.compile(loss = \"binary_crossentropy\", optimizer = optimizer, metrics = [\"accuracy\"])\n",
    "    return model"
   ]
  },
  {
   "cell_type": "code",
   "execution_count": 26,
   "id": "62f081d1-0d57-48a0-89b9-26fa3af94911",
   "metadata": {},
   "outputs": [
    {
     "name": "stdout",
     "output_type": "stream",
     "text": [
      "Шаг 1 - поиск epochs и batch_size.\n",
      "Параметры для модели в данный момент: {'epochs': 10, 'batch_size': 16, 'optimizer': 'adam', 'activation': 'relu', 'init': 'normal'}\n",
      "Потенциальные параметры для модели: {'epochs': [5, 10, 20, 50, 100], 'batch_size': [16, 32, 64, 128]}\n",
      "Fitting 10 folds for each of 20 candidates, totalling 200 fits\n",
      "Шаг 2 - поиск activation и init.\n",
      "Параметры для модели в данный момент: {'epochs': 50, 'batch_size': 16, 'optimizer': 'adam', 'activation': 'relu', 'init': 'normal'}\n",
      "Потенциальные параметры для модели: {'activation': ['softmax', 'relu', 'tanh', 'linear'], 'init': ['uniform', 'normal', 'zero']}\n",
      "Fitting 10 folds for each of 12 candidates, totalling 120 fits\n",
      "Шаг 3 - поиск optimizer.\n",
      "Параметры для модели в данный момент: {'epochs': 50, 'batch_size': 16, 'optimizer': 'adam', 'activation': 'relu', 'init': 'normal'}\n",
      "Потенциальные параметры для модели: {'optimizer': ['rmsprop', 'adam', 'sgd']}\n",
      "Fitting 10 folds for each of 3 candidates, totalling 30 fits\n"
     ]
    }
   ],
   "source": [
    "best_pars_seq2, best_score_seq2 = get_all_best_seq_model_params(pima_model_seq2)"
   ]
  },
  {
   "cell_type": "code",
   "execution_count": 27,
   "id": "4a528f30-e953-4790-a14c-04095e4ef57d",
   "metadata": {},
   "outputs": [
    {
     "name": "stdout",
     "output_type": "stream",
     "text": [
      "Лучшие параметры для второго варианта модели: {'epochs': 50, 'batch_size': 16, 'optimizer': 'rmsprop', 'activation': 'relu', 'init': 'normal'}\n",
      "Средняя точность при кросс-валидации 0.697731397459165\n",
      "Epoch 1/50\n",
      "36/36 [==============================] - 1s 5ms/step - loss: 0.6903 - accuracy: 0.6424 - val_loss: 0.6877 - val_accuracy: 0.6522\n",
      "Epoch 2/50\n",
      "36/36 [==============================] - 0s 2ms/step - loss: 0.6856 - accuracy: 0.6545 - val_loss: 0.6835 - val_accuracy: 0.6522\n",
      "Epoch 3/50\n",
      "36/36 [==============================] - 0s 2ms/step - loss: 0.6811 - accuracy: 0.6545 - val_loss: 0.6788 - val_accuracy: 0.6522\n",
      "Epoch 4/50\n",
      "36/36 [==============================] - 0s 2ms/step - loss: 0.6753 - accuracy: 0.6545 - val_loss: 0.6724 - val_accuracy: 0.6522\n",
      "Epoch 5/50\n",
      "36/36 [==============================] - 0s 2ms/step - loss: 0.6674 - accuracy: 0.6545 - val_loss: 0.6633 - val_accuracy: 0.6522\n",
      "Epoch 6/50\n",
      "36/36 [==============================] - 0s 2ms/step - loss: 0.6538 - accuracy: 0.6545 - val_loss: 0.6484 - val_accuracy: 0.6522\n",
      "Epoch 7/50\n",
      "36/36 [==============================] - 0s 2ms/step - loss: 0.6328 - accuracy: 0.6545 - val_loss: 0.6291 - val_accuracy: 0.6522\n",
      "Epoch 8/50\n",
      "36/36 [==============================] - 0s 2ms/step - loss: 0.6101 - accuracy: 0.6545 - val_loss: 0.6141 - val_accuracy: 0.6522\n",
      "Epoch 9/50\n",
      "36/36 [==============================] - 0s 2ms/step - loss: 0.5947 - accuracy: 0.6545 - val_loss: 0.6065 - val_accuracy: 0.6522\n",
      "Epoch 10/50\n",
      "36/36 [==============================] - 0s 2ms/step - loss: 0.5867 - accuracy: 0.6545 - val_loss: 0.6037 - val_accuracy: 0.6522\n",
      "Epoch 11/50\n",
      "36/36 [==============================] - 0s 2ms/step - loss: 0.5833 - accuracy: 0.6545 - val_loss: 0.6025 - val_accuracy: 0.6522\n",
      "Epoch 12/50\n",
      "36/36 [==============================] - 0s 2ms/step - loss: 0.5810 - accuracy: 0.6545 - val_loss: 0.6017 - val_accuracy: 0.6522\n",
      "Epoch 13/50\n",
      "36/36 [==============================] - 0s 2ms/step - loss: 0.5793 - accuracy: 0.6545 - val_loss: 0.6009 - val_accuracy: 0.6522\n",
      "Epoch 14/50\n",
      "36/36 [==============================] - 0s 2ms/step - loss: 0.5776 - accuracy: 0.6545 - val_loss: 0.6005 - val_accuracy: 0.6522\n",
      "Epoch 15/50\n",
      "36/36 [==============================] - 0s 2ms/step - loss: 0.5767 - accuracy: 0.6545 - val_loss: 0.5997 - val_accuracy: 0.6522\n",
      "Epoch 16/50\n",
      "36/36 [==============================] - 0s 2ms/step - loss: 0.5755 - accuracy: 0.6545 - val_loss: 0.5993 - val_accuracy: 0.6522\n",
      "Epoch 17/50\n",
      "36/36 [==============================] - 0s 2ms/step - loss: 0.5743 - accuracy: 0.6545 - val_loss: 0.5983 - val_accuracy: 0.6522\n",
      "Epoch 18/50\n",
      "36/36 [==============================] - 0s 2ms/step - loss: 0.5736 - accuracy: 0.6545 - val_loss: 0.5976 - val_accuracy: 0.6522\n",
      "Epoch 19/50\n",
      "36/36 [==============================] - 0s 2ms/step - loss: 0.5724 - accuracy: 0.6545 - val_loss: 0.5969 - val_accuracy: 0.6609\n",
      "Epoch 20/50\n",
      "36/36 [==============================] - 0s 2ms/step - loss: 0.5713 - accuracy: 0.6545 - val_loss: 0.5966 - val_accuracy: 0.6783\n",
      "Epoch 21/50\n",
      "36/36 [==============================] - 0s 2ms/step - loss: 0.5705 - accuracy: 0.6736 - val_loss: 0.5954 - val_accuracy: 0.6435\n",
      "Epoch 22/50\n",
      "36/36 [==============================] - 0s 2ms/step - loss: 0.5689 - accuracy: 0.6944 - val_loss: 0.5954 - val_accuracy: 0.6609\n",
      "Epoch 23/50\n",
      "36/36 [==============================] - 0s 2ms/step - loss: 0.5684 - accuracy: 0.7031 - val_loss: 0.5947 - val_accuracy: 0.6783\n",
      "Epoch 24/50\n",
      "36/36 [==============================] - 0s 2ms/step - loss: 0.5671 - accuracy: 0.7153 - val_loss: 0.5939 - val_accuracy: 0.6870\n",
      "Epoch 25/50\n",
      "36/36 [==============================] - 0s 2ms/step - loss: 0.5663 - accuracy: 0.7118 - val_loss: 0.5934 - val_accuracy: 0.6609\n",
      "Epoch 26/50\n",
      "36/36 [==============================] - 0s 2ms/step - loss: 0.5650 - accuracy: 0.7049 - val_loss: 0.5933 - val_accuracy: 0.6783\n",
      "Epoch 27/50\n",
      "36/36 [==============================] - 0s 2ms/step - loss: 0.5640 - accuracy: 0.7118 - val_loss: 0.5933 - val_accuracy: 0.6435\n",
      "Epoch 28/50\n",
      "36/36 [==============================] - 0s 2ms/step - loss: 0.5625 - accuracy: 0.7222 - val_loss: 0.5931 - val_accuracy: 0.6696\n",
      "Epoch 29/50\n",
      "36/36 [==============================] - 0s 2ms/step - loss: 0.5609 - accuracy: 0.7170 - val_loss: 0.5930 - val_accuracy: 0.6870\n",
      "Epoch 30/50\n",
      "36/36 [==============================] - 0s 2ms/step - loss: 0.5603 - accuracy: 0.7153 - val_loss: 0.5930 - val_accuracy: 0.6870\n",
      "Epoch 31/50\n",
      "36/36 [==============================] - 0s 2ms/step - loss: 0.5594 - accuracy: 0.7188 - val_loss: 0.5938 - val_accuracy: 0.6957\n",
      "Epoch 32/50\n",
      "36/36 [==============================] - 0s 2ms/step - loss: 0.5576 - accuracy: 0.7240 - val_loss: 0.5943 - val_accuracy: 0.6870\n",
      "Epoch 33/50\n",
      "36/36 [==============================] - 0s 2ms/step - loss: 0.5570 - accuracy: 0.7205 - val_loss: 0.5944 - val_accuracy: 0.6783\n",
      "Epoch 34/50\n",
      "36/36 [==============================] - 0s 2ms/step - loss: 0.5562 - accuracy: 0.7222 - val_loss: 0.5952 - val_accuracy: 0.6696\n",
      "Epoch 35/50\n",
      "36/36 [==============================] - 0s 2ms/step - loss: 0.5545 - accuracy: 0.7257 - val_loss: 0.5969 - val_accuracy: 0.6609\n",
      "Epoch 36/50\n",
      "36/36 [==============================] - 0s 2ms/step - loss: 0.5545 - accuracy: 0.7170 - val_loss: 0.5967 - val_accuracy: 0.6696\n",
      "Epoch 37/50\n",
      "36/36 [==============================] - 0s 2ms/step - loss: 0.5535 - accuracy: 0.7240 - val_loss: 0.5971 - val_accuracy: 0.6696\n",
      "Epoch 38/50\n",
      "36/36 [==============================] - 0s 2ms/step - loss: 0.5525 - accuracy: 0.7240 - val_loss: 0.5979 - val_accuracy: 0.6696\n",
      "Epoch 39/50\n",
      "36/36 [==============================] - 0s 2ms/step - loss: 0.5521 - accuracy: 0.7257 - val_loss: 0.5987 - val_accuracy: 0.6696\n",
      "Epoch 40/50\n",
      "36/36 [==============================] - 0s 2ms/step - loss: 0.5512 - accuracy: 0.7274 - val_loss: 0.5995 - val_accuracy: 0.6696\n",
      "Epoch 41/50\n",
      "36/36 [==============================] - 0s 2ms/step - loss: 0.5507 - accuracy: 0.7222 - val_loss: 0.5998 - val_accuracy: 0.6696\n",
      "Epoch 42/50\n",
      "36/36 [==============================] - 0s 2ms/step - loss: 0.5498 - accuracy: 0.7257 - val_loss: 0.6011 - val_accuracy: 0.6696\n",
      "Epoch 43/50\n",
      "36/36 [==============================] - 0s 2ms/step - loss: 0.5499 - accuracy: 0.7240 - val_loss: 0.6017 - val_accuracy: 0.6609\n",
      "Epoch 44/50\n",
      "36/36 [==============================] - 0s 2ms/step - loss: 0.5496 - accuracy: 0.7274 - val_loss: 0.6025 - val_accuracy: 0.6609\n",
      "Epoch 45/50\n",
      "36/36 [==============================] - 0s 2ms/step - loss: 0.5486 - accuracy: 0.7309 - val_loss: 0.6030 - val_accuracy: 0.6609\n",
      "Epoch 46/50\n",
      "36/36 [==============================] - 0s 2ms/step - loss: 0.5484 - accuracy: 0.7309 - val_loss: 0.6038 - val_accuracy: 0.6522\n",
      "Epoch 47/50\n",
      "36/36 [==============================] - 0s 2ms/step - loss: 0.5478 - accuracy: 0.7222 - val_loss: 0.6041 - val_accuracy: 0.6522\n",
      "Epoch 48/50\n",
      "36/36 [==============================] - 0s 2ms/step - loss: 0.5475 - accuracy: 0.7292 - val_loss: 0.6053 - val_accuracy: 0.6522\n",
      "Epoch 49/50\n",
      "36/36 [==============================] - 0s 2ms/step - loss: 0.5468 - accuracy: 0.7309 - val_loss: 0.6061 - val_accuracy: 0.6522\n",
      "Epoch 50/50\n",
      "36/36 [==============================] - 0s 2ms/step - loss: 0.5466 - accuracy: 0.7309 - val_loss: 0.6069 - val_accuracy: 0.6522\n",
      "3/3 [==============================] - 0s 2ms/step\n",
      "Точность прогнозирования: 66.23376623376623%.\n"
     ]
    },
    {
     "data": {
      "image/png": "[encoded data removed]",
      "text/plain": [
       "<Figure size 432x288 with 1 Axes>"
      ]
     },
     "metadata": {
      "needs_background": "light"
     },
     "output_type": "display_data"
    },
    {
     "data": {
      "image/png": "[encoded data removed]",
      "text/plain": [
       "<Figure size 432x288 with 1 Axes>"
      ]
     },
     "metadata": {
      "needs_background": "light"
     },
     "output_type": "display_data"
    }
   ],
   "source": [
    "print(\"Лучшие параметры для второго варианта модели:\", best_pars_seq2)\n",
    "print(\"Средняя точность при кросс-валидации\", best_score_seq2)\n",
    "best_model_seq2 = pima_model_seq2(init = best_pars_seq2[\"init\"], optimizer = best_pars_seq2[\"optimizer\"], activation = best_pars_seq2[\"activation\"])\n",
    "best_history_seq2 = best_model_seq2.fit(x_train, y_train, epochs = best_pars_seq2[\"epochs\"], batch_size = best_pars_seq2[\"batch_size\"], validation_data = (x_valid, y_valid), verbose = 1)\n",
    "y_pred = best_model_seq2.predict(x_test)\n",
    "y_pred_binary = (y_pred > 0.5).astype(\"int32\")\n",
    "seq2_accuracy = accuracy_score(y_test, y_pred_binary)\n",
    "print(\"Точность прогнозирования: \"+str(seq2_accuracy*100.0)+\"%.\")\n",
    "plt.figure()\n",
    "plt.plot(best_history_seq2.history['accuracy'])\n",
    "plt.plot(best_history_seq2.history['val_accuracy'])\n",
    "plt.title(\"Точность второго варианта модели\")\n",
    "plt.xlabel(\"Эпохи\")\n",
    "plt.ylabel(\"Точность\")\n",
    "plt.legend([\"train\", \"val\"], loc = \"upper left\")\n",
    "plt.show()\n",
    "plt.figure()\n",
    "plt.plot(best_history_seq2.history['loss'])\n",
    "plt.plot(best_history_seq2.history['val_loss'])\n",
    "plt.title(\"Потери второго варианта модели\")\n",
    "plt.xlabel(\"Эпохи\")\n",
    "plt.ylabel(\"Потери\")\n",
    "plt.legend([\"train\", \"val\"], loc = \"upper left\")\n",
    "plt.show()"
   ]
  },
  {
   "cell_type": "markdown",
   "id": "50854f14-874c-4d48-816c-e8fa7145f1a3",
   "metadata": {},
   "source": [
    "### Третий вариант модели"
   ]
  },
  {
   "cell_type": "code",
   "execution_count": 28,
   "id": "ac26ab6a-e931-4fcb-a4f0-25e6f3f910ae",
   "metadata": {},
   "outputs": [],
   "source": [
    "def pima_model_seq3(init = \"normal\", optimizer = \"adam\", activation = \"relu\"):\n",
    "    model = Sequential()\n",
    "    model.add(Dense(8, input_dim = x.shape[1], kernel_initializer = init, activation = activation))\n",
    "    model.add(Dense(4, kernel_initializer = init, activation = activation))\n",
    "    model.add(Dense(1, kernel_initializer = init, activation = \"sigmoid\"))\n",
    "    model.compile(loss = \"binary_crossentropy\", optimizer = optimizer, metrics = [\"accuracy\"])\n",
    "    return model"
   ]
  },
  {
   "cell_type": "code",
   "execution_count": 29,
   "id": "14b72af9-6df7-470e-8888-c3e5db0d822b",
   "metadata": {},
   "outputs": [
    {
     "name": "stdout",
     "output_type": "stream",
     "text": [
      "Шаг 1 - поиск epochs и batch_size.\n",
      "Параметры для модели в данный момент: {'epochs': 10, 'batch_size': 16, 'optimizer': 'adam', 'activation': 'relu', 'init': 'normal'}\n",
      "Потенциальные параметры для модели: {'epochs': [5, 10, 20, 50, 100], 'batch_size': [16, 32, 64, 128]}\n",
      "Fitting 10 folds for each of 20 candidates, totalling 200 fits\n",
      "Шаг 2 - поиск activation и init.\n",
      "Параметры для модели в данный момент: {'epochs': 100, 'batch_size': 64, 'optimizer': 'adam', 'activation': 'relu', 'init': 'normal'}\n",
      "Потенциальные параметры для модели: {'activation': ['softmax', 'relu', 'tanh', 'linear'], 'init': ['uniform', 'normal', 'zero']}\n",
      "Fitting 10 folds for each of 12 candidates, totalling 120 fits\n",
      "Шаг 3 - поиск optimizer.\n",
      "Параметры для модели в данный момент: {'epochs': 100, 'batch_size': 64, 'optimizer': 'adam', 'activation': 'linear', 'init': 'normal'}\n",
      "Потенциальные параметры для модели: {'optimizer': ['rmsprop', 'adam', 'sgd']}\n",
      "Fitting 10 folds for each of 3 candidates, totalling 30 fits\n"
     ]
    }
   ],
   "source": [
    "best_pars_seq3, best_score_seq3 = get_all_best_seq_model_params(pima_model_seq3)"
   ]
  },
  {
   "cell_type": "code",
   "execution_count": 30,
   "id": "79f3f15e-4698-46ba-a44d-f43cb660f7fc",
   "metadata": {},
   "outputs": [
    {
     "name": "stdout",
     "output_type": "stream",
     "text": [
      "Лучшие параметры для третьего варианта модели: {'epochs': 100, 'batch_size': 64, 'optimizer': 'rmsprop', 'activation': 'linear', 'init': 'normal'}\n",
      "Средняя точность при кросс-валидации: 0.6941016333938295\n",
      "Epoch 1/100\n",
      "9/9 [==============================] - 0s 15ms/step - loss: 0.6912 - accuracy: 0.6267 - val_loss: 0.6891 - val_accuracy: 0.6522\n",
      "Epoch 2/100\n",
      "9/9 [==============================] - 0s 4ms/step - loss: 0.6877 - accuracy: 0.6545 - val_loss: 0.6859 - val_accuracy: 0.6522\n",
      "Epoch 3/100\n",
      "9/9 [==============================] - 0s 4ms/step - loss: 0.6840 - accuracy: 0.6580 - val_loss: 0.6822 - val_accuracy: 0.6609\n",
      "Epoch 4/100\n",
      "9/9 [==============================] - 0s 4ms/step - loss: 0.6794 - accuracy: 0.6667 - val_loss: 0.6777 - val_accuracy: 0.6696\n",
      "Epoch 5/100\n",
      "9/9 [==============================] - 0s 4ms/step - loss: 0.6737 - accuracy: 0.6753 - val_loss: 0.6724 - val_accuracy: 0.6870\n",
      "Epoch 6/100\n",
      "9/9 [==============================] - 0s 4ms/step - loss: 0.6669 - accuracy: 0.6753 - val_loss: 0.6665 - val_accuracy: 0.6696\n",
      "Epoch 7/100\n",
      "9/9 [==============================] - 0s 4ms/step - loss: 0.6593 - accuracy: 0.6892 - val_loss: 0.6602 - val_accuracy: 0.6696\n",
      "Epoch 8/100\n",
      "9/9 [==============================] - 0s 4ms/step - loss: 0.6509 - accuracy: 0.6910 - val_loss: 0.6532 - val_accuracy: 0.6783\n",
      "Epoch 9/100\n",
      "9/9 [==============================] - 0s 4ms/step - loss: 0.6417 - accuracy: 0.6962 - val_loss: 0.6462 - val_accuracy: 0.6522\n",
      "Epoch 10/100\n",
      "9/9 [==============================] - 0s 4ms/step - loss: 0.6323 - accuracy: 0.6927 - val_loss: 0.6392 - val_accuracy: 0.6696\n",
      "Epoch 11/100\n",
      "9/9 [==============================] - 0s 4ms/step - loss: 0.6231 - accuracy: 0.6944 - val_loss: 0.6329 - val_accuracy: 0.6696\n",
      "Epoch 12/100\n",
      "9/9 [==============================] - 0s 4ms/step - loss: 0.6142 - accuracy: 0.6927 - val_loss: 0.6273 - val_accuracy: 0.6609\n",
      "Epoch 13/100\n",
      "9/9 [==============================] - 0s 4ms/step - loss: 0.6060 - accuracy: 0.6823 - val_loss: 0.6224 - val_accuracy: 0.6609\n",
      "Epoch 14/100\n",
      "9/9 [==============================] - 0s 4ms/step - loss: 0.5987 - accuracy: 0.6858 - val_loss: 0.6187 - val_accuracy: 0.6696\n",
      "Epoch 15/100\n",
      "9/9 [==============================] - 0s 4ms/step - loss: 0.5926 - accuracy: 0.6806 - val_loss: 0.6159 - val_accuracy: 0.6609\n",
      "Epoch 16/100\n",
      "9/9 [==============================] - 0s 4ms/step - loss: 0.5879 - accuracy: 0.6858 - val_loss: 0.6140 - val_accuracy: 0.6609\n",
      "Epoch 17/100\n",
      "9/9 [==============================] - 0s 4ms/step - loss: 0.5840 - accuracy: 0.6858 - val_loss: 0.6127 - val_accuracy: 0.6609\n",
      "Epoch 18/100\n",
      "9/9 [==============================] - 0s 4ms/step - loss: 0.5807 - accuracy: 0.6892 - val_loss: 0.6116 - val_accuracy: 0.6609\n",
      "Epoch 19/100\n",
      "9/9 [==============================] - 0s 4ms/step - loss: 0.5781 - accuracy: 0.6910 - val_loss: 0.6106 - val_accuracy: 0.6609\n",
      "Epoch 20/100\n",
      "9/9 [==============================] - 0s 4ms/step - loss: 0.5759 - accuracy: 0.6910 - val_loss: 0.6102 - val_accuracy: 0.6609\n",
      "Epoch 21/100\n",
      "9/9 [==============================] - 0s 4ms/step - loss: 0.5744 - accuracy: 0.6927 - val_loss: 0.6092 - val_accuracy: 0.6696\n",
      "Epoch 22/100\n",
      "9/9 [==============================] - 0s 4ms/step - loss: 0.5730 - accuracy: 0.6927 - val_loss: 0.6081 - val_accuracy: 0.6783\n",
      "Epoch 23/100\n",
      "9/9 [==============================] - 0s 4ms/step - loss: 0.5719 - accuracy: 0.6927 - val_loss: 0.6071 - val_accuracy: 0.6783\n",
      "Epoch 24/100\n",
      "9/9 [==============================] - 0s 4ms/step - loss: 0.5707 - accuracy: 0.6962 - val_loss: 0.6062 - val_accuracy: 0.6783\n",
      "Epoch 25/100\n",
      "9/9 [==============================] - 0s 4ms/step - loss: 0.5698 - accuracy: 0.7031 - val_loss: 0.6054 - val_accuracy: 0.6783\n",
      "Epoch 26/100\n",
      "9/9 [==============================] - 0s 4ms/step - loss: 0.5690 - accuracy: 0.7014 - val_loss: 0.6045 - val_accuracy: 0.6870\n",
      "Epoch 27/100\n",
      "9/9 [==============================] - 0s 4ms/step - loss: 0.5683 - accuracy: 0.7101 - val_loss: 0.6037 - val_accuracy: 0.6783\n",
      "Epoch 28/100\n",
      "9/9 [==============================] - 0s 4ms/step - loss: 0.5680 - accuracy: 0.7083 - val_loss: 0.6030 - val_accuracy: 0.6783\n",
      "Epoch 29/100\n",
      "9/9 [==============================] - 0s 4ms/step - loss: 0.5675 - accuracy: 0.7083 - val_loss: 0.6024 - val_accuracy: 0.6870\n",
      "Epoch 30/100\n",
      "9/9 [==============================] - 0s 4ms/step - loss: 0.5669 - accuracy: 0.7066 - val_loss: 0.6017 - val_accuracy: 0.6783\n",
      "Epoch 31/100\n",
      "9/9 [==============================] - 0s 4ms/step - loss: 0.5669 - accuracy: 0.7083 - val_loss: 0.6010 - val_accuracy: 0.6783\n",
      "Epoch 32/100\n",
      "9/9 [==============================] - 0s 4ms/step - loss: 0.5667 - accuracy: 0.7083 - val_loss: 0.6012 - val_accuracy: 0.6870\n",
      "Epoch 33/100\n",
      "9/9 [==============================] - 0s 4ms/step - loss: 0.5660 - accuracy: 0.7066 - val_loss: 0.6010 - val_accuracy: 0.6870\n",
      "Epoch 34/100\n",
      "9/9 [==============================] - 0s 4ms/step - loss: 0.5657 - accuracy: 0.7066 - val_loss: 0.6006 - val_accuracy: 0.6957\n",
      "Epoch 35/100\n",
      "9/9 [==============================] - 0s 3ms/step - loss: 0.5656 - accuracy: 0.7049 - val_loss: 0.6004 - val_accuracy: 0.6957\n",
      "Epoch 36/100\n",
      "9/9 [==============================] - 0s 4ms/step - loss: 0.5653 - accuracy: 0.7066 - val_loss: 0.6003 - val_accuracy: 0.6957\n",
      "Epoch 37/100\n",
      "9/9 [==============================] - 0s 4ms/step - loss: 0.5653 - accuracy: 0.7101 - val_loss: 0.6002 - val_accuracy: 0.6957\n",
      "Epoch 38/100\n",
      "9/9 [==============================] - 0s 4ms/step - loss: 0.5649 - accuracy: 0.7083 - val_loss: 0.5996 - val_accuracy: 0.6957\n",
      "Epoch 39/100\n",
      "9/9 [==============================] - 0s 4ms/step - loss: 0.5651 - accuracy: 0.7153 - val_loss: 0.5998 - val_accuracy: 0.6957\n",
      "Epoch 40/100\n",
      "9/9 [==============================] - 0s 4ms/step - loss: 0.5650 - accuracy: 0.7101 - val_loss: 0.5994 - val_accuracy: 0.6957\n",
      "Epoch 41/100\n",
      "9/9 [==============================] - 0s 4ms/step - loss: 0.5648 - accuracy: 0.7066 - val_loss: 0.5994 - val_accuracy: 0.6957\n",
      "Epoch 42/100\n",
      "9/9 [==============================] - 0s 4ms/step - loss: 0.5647 - accuracy: 0.7083 - val_loss: 0.5992 - val_accuracy: 0.6957\n",
      "Epoch 43/100\n",
      "9/9 [==============================] - 0s 4ms/step - loss: 0.5648 - accuracy: 0.7066 - val_loss: 0.5990 - val_accuracy: 0.6957\n",
      "Epoch 44/100\n",
      "9/9 [==============================] - 0s 4ms/step - loss: 0.5647 - accuracy: 0.7031 - val_loss: 0.5989 - val_accuracy: 0.6957\n",
      "Epoch 45/100\n",
      "9/9 [==============================] - 0s 4ms/step - loss: 0.5648 - accuracy: 0.7066 - val_loss: 0.5988 - val_accuracy: 0.6957\n",
      "Epoch 46/100\n",
      "9/9 [==============================] - 0s 4ms/step - loss: 0.5645 - accuracy: 0.7049 - val_loss: 0.5990 - val_accuracy: 0.6957\n",
      "Epoch 47/100\n",
      "9/9 [==============================] - 0s 4ms/step - loss: 0.5643 - accuracy: 0.7031 - val_loss: 0.5989 - val_accuracy: 0.6957\n",
      "Epoch 48/100\n",
      "9/9 [==============================] - 0s 4ms/step - loss: 0.5644 - accuracy: 0.7083 - val_loss: 0.5990 - val_accuracy: 0.6957\n",
      "Epoch 49/100\n",
      "9/9 [==============================] - 0s 4ms/step - loss: 0.5642 - accuracy: 0.7031 - val_loss: 0.5990 - val_accuracy: 0.6957\n",
      "Epoch 50/100\n",
      "9/9 [==============================] - 0s 4ms/step - loss: 0.5642 - accuracy: 0.7031 - val_loss: 0.5990 - val_accuracy: 0.6957\n",
      "Epoch 51/100\n",
      "9/9 [==============================] - 0s 4ms/step - loss: 0.5646 - accuracy: 0.7031 - val_loss: 0.5990 - val_accuracy: 0.6957\n",
      "Epoch 52/100\n",
      "9/9 [==============================] - 0s 4ms/step - loss: 0.5642 - accuracy: 0.7031 - val_loss: 0.5990 - val_accuracy: 0.6957\n",
      "Epoch 53/100\n",
      "9/9 [==============================] - 0s 4ms/step - loss: 0.5643 - accuracy: 0.7049 - val_loss: 0.5988 - val_accuracy: 0.6957\n",
      "Epoch 54/100\n",
      "9/9 [==============================] - 0s 4ms/step - loss: 0.5641 - accuracy: 0.7066 - val_loss: 0.5990 - val_accuracy: 0.6957\n",
      "Epoch 55/100\n",
      "9/9 [==============================] - 0s 4ms/step - loss: 0.5641 - accuracy: 0.7066 - val_loss: 0.5988 - val_accuracy: 0.6957\n",
      "Epoch 56/100\n",
      "9/9 [==============================] - 0s 4ms/step - loss: 0.5643 - accuracy: 0.7014 - val_loss: 0.5991 - val_accuracy: 0.6957\n",
      "Epoch 57/100\n",
      "9/9 [==============================] - 0s 4ms/step - loss: 0.5639 - accuracy: 0.7083 - val_loss: 0.5995 - val_accuracy: 0.6870\n",
      "Epoch 58/100\n",
      "9/9 [==============================] - 0s 4ms/step - loss: 0.5646 - accuracy: 0.7049 - val_loss: 0.5994 - val_accuracy: 0.6870\n",
      "Epoch 59/100\n",
      "9/9 [==============================] - 0s 4ms/step - loss: 0.5641 - accuracy: 0.7031 - val_loss: 0.5991 - val_accuracy: 0.6870\n",
      "Epoch 60/100\n",
      "9/9 [==============================] - 0s 4ms/step - loss: 0.5640 - accuracy: 0.7066 - val_loss: 0.5989 - val_accuracy: 0.6957\n",
      "Epoch 61/100\n",
      "9/9 [==============================] - 0s 4ms/step - loss: 0.5641 - accuracy: 0.7101 - val_loss: 0.5993 - val_accuracy: 0.6870\n",
      "Epoch 62/100\n",
      "9/9 [==============================] - 0s 4ms/step - loss: 0.5640 - accuracy: 0.7049 - val_loss: 0.5994 - val_accuracy: 0.6870\n",
      "Epoch 63/100\n",
      "9/9 [==============================] - 0s 4ms/step - loss: 0.5641 - accuracy: 0.7049 - val_loss: 0.5992 - val_accuracy: 0.6870\n",
      "Epoch 64/100\n",
      "9/9 [==============================] - 0s 4ms/step - loss: 0.5642 - accuracy: 0.7066 - val_loss: 0.5991 - val_accuracy: 0.6870\n",
      "Epoch 65/100\n",
      "9/9 [==============================] - 0s 4ms/step - loss: 0.5640 - accuracy: 0.7049 - val_loss: 0.5993 - val_accuracy: 0.6870\n",
      "Epoch 66/100\n",
      "9/9 [==============================] - 0s 7ms/step - loss: 0.5642 - accuracy: 0.7066 - val_loss: 0.5995 - val_accuracy: 0.6870\n",
      "Epoch 67/100\n",
      "9/9 [==============================] - 0s 4ms/step - loss: 0.5639 - accuracy: 0.6997 - val_loss: 0.5993 - val_accuracy: 0.6870\n",
      "Epoch 68/100\n",
      "9/9 [==============================] - 0s 4ms/step - loss: 0.5639 - accuracy: 0.7066 - val_loss: 0.5992 - val_accuracy: 0.6870\n",
      "Epoch 69/100\n",
      "9/9 [==============================] - 0s 4ms/step - loss: 0.5642 - accuracy: 0.7083 - val_loss: 0.5990 - val_accuracy: 0.6870\n",
      "Epoch 70/100\n",
      "9/9 [==============================] - 0s 4ms/step - loss: 0.5637 - accuracy: 0.7066 - val_loss: 0.5992 - val_accuracy: 0.6870\n",
      "Epoch 71/100\n",
      "9/9 [==============================] - 0s 4ms/step - loss: 0.5641 - accuracy: 0.7066 - val_loss: 0.5991 - val_accuracy: 0.6870\n",
      "Epoch 72/100\n",
      "9/9 [==============================] - 0s 4ms/step - loss: 0.5639 - accuracy: 0.7031 - val_loss: 0.5988 - val_accuracy: 0.6870\n",
      "Epoch 73/100\n",
      "9/9 [==============================] - 0s 4ms/step - loss: 0.5641 - accuracy: 0.7083 - val_loss: 0.5990 - val_accuracy: 0.6870\n",
      "Epoch 74/100\n",
      "9/9 [==============================] - 0s 4ms/step - loss: 0.5637 - accuracy: 0.7083 - val_loss: 0.5992 - val_accuracy: 0.6870\n",
      "Epoch 75/100\n",
      "9/9 [==============================] - 0s 4ms/step - loss: 0.5639 - accuracy: 0.7101 - val_loss: 0.5990 - val_accuracy: 0.6870\n",
      "Epoch 76/100\n",
      "9/9 [==============================] - 0s 4ms/step - loss: 0.5637 - accuracy: 0.7049 - val_loss: 0.5992 - val_accuracy: 0.6870\n",
      "Epoch 77/100\n",
      "9/9 [==============================] - 0s 4ms/step - loss: 0.5643 - accuracy: 0.7066 - val_loss: 0.5992 - val_accuracy: 0.6870\n",
      "Epoch 78/100\n",
      "9/9 [==============================] - 0s 4ms/step - loss: 0.5637 - accuracy: 0.7066 - val_loss: 0.5994 - val_accuracy: 0.6870\n",
      "Epoch 79/100\n",
      "9/9 [==============================] - 0s 4ms/step - loss: 0.5639 - accuracy: 0.7101 - val_loss: 0.5996 - val_accuracy: 0.6870\n",
      "Epoch 80/100\n",
      "9/9 [==============================] - 0s 4ms/step - loss: 0.5641 - accuracy: 0.7049 - val_loss: 0.6001 - val_accuracy: 0.6870\n",
      "Epoch 81/100\n",
      "9/9 [==============================] - 0s 4ms/step - loss: 0.5637 - accuracy: 0.7101 - val_loss: 0.6003 - val_accuracy: 0.6870\n",
      "Epoch 82/100\n",
      "9/9 [==============================] - 0s 4ms/step - loss: 0.5639 - accuracy: 0.7066 - val_loss: 0.6001 - val_accuracy: 0.6870\n",
      "Epoch 83/100\n",
      "9/9 [==============================] - 0s 4ms/step - loss: 0.5639 - accuracy: 0.7049 - val_loss: 0.6001 - val_accuracy: 0.6870\n",
      "Epoch 84/100\n",
      "9/9 [==============================] - 0s 4ms/step - loss: 0.5638 - accuracy: 0.7083 - val_loss: 0.5999 - val_accuracy: 0.6870\n",
      "Epoch 85/100\n",
      "9/9 [==============================] - 0s 4ms/step - loss: 0.5640 - accuracy: 0.7049 - val_loss: 0.6000 - val_accuracy: 0.6870\n",
      "Epoch 86/100\n",
      "9/9 [==============================] - 0s 4ms/step - loss: 0.5638 - accuracy: 0.7014 - val_loss: 0.5999 - val_accuracy: 0.6870\n",
      "Epoch 87/100\n",
      "9/9 [==============================] - 0s 4ms/step - loss: 0.5637 - accuracy: 0.7049 - val_loss: 0.5996 - val_accuracy: 0.6870\n",
      "Epoch 88/100\n",
      "9/9 [==============================] - 0s 4ms/step - loss: 0.5640 - accuracy: 0.7066 - val_loss: 0.5999 - val_accuracy: 0.6957\n",
      "Epoch 89/100\n",
      "9/9 [==============================] - 0s 4ms/step - loss: 0.5637 - accuracy: 0.7066 - val_loss: 0.6000 - val_accuracy: 0.6957\n",
      "Epoch 90/100\n",
      "9/9 [==============================] - 0s 4ms/step - loss: 0.5638 - accuracy: 0.7014 - val_loss: 0.6004 - val_accuracy: 0.6957\n",
      "Epoch 91/100\n",
      "9/9 [==============================] - 0s 4ms/step - loss: 0.5636 - accuracy: 0.7049 - val_loss: 0.6002 - val_accuracy: 0.6957\n",
      "Epoch 92/100\n",
      "9/9 [==============================] - 0s 4ms/step - loss: 0.5638 - accuracy: 0.7014 - val_loss: 0.5998 - val_accuracy: 0.6870\n",
      "Epoch 93/100\n",
      "9/9 [==============================] - 0s 4ms/step - loss: 0.5639 - accuracy: 0.7031 - val_loss: 0.5999 - val_accuracy: 0.6870\n",
      "Epoch 94/100\n",
      "9/9 [==============================] - 0s 4ms/step - loss: 0.5641 - accuracy: 0.7083 - val_loss: 0.5999 - val_accuracy: 0.6870\n",
      "Epoch 95/100\n",
      "9/9 [==============================] - 0s 4ms/step - loss: 0.5636 - accuracy: 0.7066 - val_loss: 0.6001 - val_accuracy: 0.6870\n",
      "Epoch 96/100\n",
      "9/9 [==============================] - 0s 4ms/step - loss: 0.5637 - accuracy: 0.7031 - val_loss: 0.5999 - val_accuracy: 0.6870\n",
      "Epoch 97/100\n",
      "9/9 [==============================] - 0s 4ms/step - loss: 0.5639 - accuracy: 0.7049 - val_loss: 0.6003 - val_accuracy: 0.6870\n",
      "Epoch 98/100\n",
      "9/9 [==============================] - 0s 4ms/step - loss: 0.5638 - accuracy: 0.7101 - val_loss: 0.6004 - val_accuracy: 0.6957\n",
      "Epoch 99/100\n",
      "9/9 [==============================] - 0s 4ms/step - loss: 0.5637 - accuracy: 0.7049 - val_loss: 0.6010 - val_accuracy: 0.6957\n",
      "Epoch 100/100\n",
      "9/9 [==============================] - 0s 4ms/step - loss: 0.5637 - accuracy: 0.7031 - val_loss: 0.6005 - val_accuracy: 0.6957\n",
      "3/3 [==============================] - 0s 1ms/step\n",
      "Точность прогнозирования: 64.93506493506493%.\n"
     ]
    },
    {
     "data": {
      "image/png": "[encoded data removed]",
      "text/plain": [
       "<Figure size 432x288 with 1 Axes>"
      ]
     },
     "metadata": {
      "needs_background": "light"
     },
     "output_type": "display_data"
    },
    {
     "data": {
      "image/png": "[encoded data removed]",
      "text/plain": [
       "<Figure size 432x288 with 1 Axes>"
      ]
     },
     "metadata": {
      "needs_background": "light"
     },
     "output_type": "display_data"
    }
   ],
   "source": [
    "print(\"Лучшие параметры для третьего варианта модели:\", best_pars_seq3)\n",
    "print(\"Средняя точность при кросс-валидации:\", best_score_seq3)\n",
    "best_model_seq3 = pima_model_seq3(init = best_pars_seq3[\"init\"], optimizer = best_pars_seq3[\"optimizer\"], activation = best_pars_seq3[\"activation\"])\n",
    "best_history_seq3 = best_model_seq3.fit(x_train, y_train, epochs = best_pars_seq3[\"epochs\"], batch_size = best_pars_seq3[\"batch_size\"], validation_data = (x_valid, y_valid), verbose = 1)\n",
    "y_pred = best_model_seq3.predict(x_test)\n",
    "y_pred_binary = (y_pred > 0.5).astype(\"int32\")\n",
    "seq3_accuracy = accuracy_score(y_test, y_pred_binary)\n",
    "print(\"Точность прогнозирования: \"+str(seq3_accuracy*100.0)+\"%.\")\n",
    "plt.figure()\n",
    "plt.plot(best_history_seq3.history['accuracy'])\n",
    "plt.plot(best_history_seq3.history['val_accuracy'])\n",
    "plt.title(\"Точность третьего варианта модели\")\n",
    "plt.xlabel(\"Эпохи\")\n",
    "plt.ylabel(\"Точность\")\n",
    "plt.legend([\"train\", \"val\"], loc = \"upper left\")\n",
    "plt.show()\n",
    "plt.figure()\n",
    "plt.plot(best_history_seq3.history['loss'])\n",
    "plt.plot(best_history_seq3.history['val_loss'])\n",
    "plt.title(\"Потери третьего варианта модели\")\n",
    "plt.xlabel(\"Эпохи\")\n",
    "plt.ylabel(\"Потери\")\n",
    "plt.legend([\"train\", \"val\"], loc = \"upper left\")\n",
    "plt.show()"
   ]
  },
  {
   "cell_type": "markdown",
   "id": "3e56cb2e-64c1-49b1-99e8-2b7c9afd6120",
   "metadata": {},
   "source": [
    "### Четвёртый вариант модели"
   ]
  },
  {
   "cell_type": "code",
   "execution_count": 31,
   "id": "ae19d866-7cbd-404e-8d65-afa34a79d11a",
   "metadata": {},
   "outputs": [],
   "source": [
    "def pima_model_seq4(init = \"normal\", optimizer = \"adam\", activation = \"relu\"):\n",
    "    model = Sequential()\n",
    "    model.add(Dense(64, input_dim = x.shape[1], kernel_initializer = init, activation = activation))\n",
    "    model.add(Dense(32, kernel_initializer = init, activation = activation))\n",
    "    model.add(Dense(16, kernel_initializer = init, activation = activation))\n",
    "    model.add(Dense(64, kernel_initializer = init, activation = activation))\n",
    "    model.add(Dense(1, kernel_initializer = init, activation = \"sigmoid\"))\n",
    "    model.compile(loss = \"binary_crossentropy\", optimizer = optimizer, metrics = [\"accuracy\"])\n",
    "    return model"
   ]
  },
  {
   "cell_type": "code",
   "execution_count": 32,
   "id": "0b3a9279-d53e-4f6d-babe-319dd951e717",
   "metadata": {},
   "outputs": [
    {
     "name": "stdout",
     "output_type": "stream",
     "text": [
      "Шаг 1 - поиск epochs и batch_size.\n",
      "Параметры для модели в данный момент: {'epochs': 10, 'batch_size': 16, 'optimizer': 'adam', 'activation': 'relu', 'init': 'normal'}\n",
      "Потенциальные параметры для модели: {'epochs': [5, 10, 20, 50, 100], 'batch_size': [16, 32, 64, 128]}\n",
      "Fitting 10 folds for each of 20 candidates, totalling 200 fits\n",
      "Шаг 2 - поиск activation и init.\n",
      "Параметры для модели в данный момент: {'epochs': 10, 'batch_size': 32, 'optimizer': 'adam', 'activation': 'relu', 'init': 'normal'}\n",
      "Потенциальные параметры для модели: {'activation': ['softmax', 'relu', 'tanh', 'linear'], 'init': ['uniform', 'normal', 'zero']}\n",
      "Fitting 10 folds for each of 12 candidates, totalling 120 fits\n",
      "Шаг 3 - поиск optimizer.\n",
      "Параметры для модели в данный момент: {'epochs': 10, 'batch_size': 32, 'optimizer': 'adam', 'activation': 'tanh', 'init': 'normal'}\n",
      "Потенциальные параметры для модели: {'optimizer': ['rmsprop', 'adam', 'sgd']}\n",
      "Fitting 10 folds for each of 3 candidates, totalling 30 fits\n"
     ]
    }
   ],
   "source": [
    "best_pars_seq4, best_score_seq4 = get_all_best_seq_model_params(pima_model_seq4)"
   ]
  },
  {
   "cell_type": "code",
   "execution_count": 33,
   "id": "f53e4bdb-4d6c-4972-a370-7adc96eed1a8",
   "metadata": {},
   "outputs": [
    {
     "name": "stdout",
     "output_type": "stream",
     "text": [
      "Лучшие параметры для четвёртого варианта модели: {'epochs': 10, 'batch_size': 32, 'optimizer': 'sgd', 'activation': 'tanh', 'init': 'normal'}\n",
      "Средняя точность при кросс-валидации: 0.7010284331518453\n",
      "Epoch 1/10\n",
      "18/18 [==============================] - 0s 8ms/step - loss: 0.6911 - accuracy: 0.6319 - val_loss: 0.6886 - val_accuracy: 0.6522\n",
      "Epoch 2/10\n",
      "18/18 [==============================] - 0s 3ms/step - loss: 0.6866 - accuracy: 0.6545 - val_loss: 0.6844 - val_accuracy: 0.6522\n",
      "Epoch 3/10\n",
      "18/18 [==============================] - 0s 3ms/step - loss: 0.6825 - accuracy: 0.6545 - val_loss: 0.6806 - val_accuracy: 0.6522\n",
      "Epoch 4/10\n",
      "18/18 [==============================] - 0s 2ms/step - loss: 0.6788 - accuracy: 0.6545 - val_loss: 0.6772 - val_accuracy: 0.6522\n",
      "Epoch 5/10\n",
      "18/18 [==============================] - 0s 3ms/step - loss: 0.6755 - accuracy: 0.6545 - val_loss: 0.6741 - val_accuracy: 0.6522\n",
      "Epoch 6/10\n",
      "18/18 [==============================] - 0s 3ms/step - loss: 0.6725 - accuracy: 0.6545 - val_loss: 0.6714 - val_accuracy: 0.6522\n",
      "Epoch 7/10\n",
      "18/18 [==============================] - 0s 2ms/step - loss: 0.6699 - accuracy: 0.6545 - val_loss: 0.6689 - val_accuracy: 0.6522\n",
      "Epoch 8/10\n",
      "18/18 [==============================] - 0s 3ms/step - loss: 0.6674 - accuracy: 0.6545 - val_loss: 0.6666 - val_accuracy: 0.6522\n",
      "Epoch 9/10\n",
      "18/18 [==============================] - 0s 2ms/step - loss: 0.6653 - accuracy: 0.6545 - val_loss: 0.6646 - val_accuracy: 0.6522\n",
      "Epoch 10/10\n",
      "18/18 [==============================] - 0s 3ms/step - loss: 0.6632 - accuracy: 0.6545 - val_loss: 0.6628 - val_accuracy: 0.6522\n",
      "3/3 [==============================] - 0s 1ms/step\n",
      "Точность прогнозирования: 62.33766233766234%.\n"
     ]
    },
    {
     "data": {
      "image/png": "[encoded data removed]",
      "text/plain": [
       "<Figure size 432x288 with 1 Axes>"
      ]
     },
     "metadata": {
      "needs_background": "light"
     },
     "output_type": "display_data"
    },
    {
     "data": {
      "image/png": "[encoded data removed]",
      "text/plain": [
       "<Figure size 432x288 with 1 Axes>"
      ]
     },
     "metadata": {
      "needs_background": "light"
     },
     "output_type": "display_data"
    }
   ],
   "source": [
    "print(\"Лучшие параметры для четвёртого варианта модели:\", best_pars_seq4)\n",
    "print(\"Средняя точность при кросс-валидации:\", best_score_seq4)\n",
    "best_model_seq4 = pima_model_seq4(init = best_pars_seq4[\"init\"], optimizer = best_pars_seq4[\"optimizer\"], activation = best_pars_seq4[\"activation\"])\n",
    "best_history_seq4 = best_model_seq4.fit(x_train, y_train, epochs = best_pars_seq4[\"epochs\"], batch_size = best_pars_seq4[\"batch_size\"], validation_data = (x_valid, y_valid), verbose = 1)\n",
    "y_pred = best_model_seq4.predict(x_test)\n",
    "y_pred_binary = (y_pred > 0.5).astype(\"int32\")\n",
    "seq4_accuracy = accuracy_score(y_test, y_pred_binary)\n",
    "print(\"Точность прогнозирования: \"+str(seq4_accuracy*100.0)+\"%.\")\n",
    "plt.figure()\n",
    "plt.plot(best_history_seq4.history['accuracy'])\n",
    "plt.plot(best_history_seq4.history['val_accuracy'])\n",
    "plt.title(\"Точность четвёртого варианта модели\")\n",
    "plt.xlabel(\"Эпохи\")\n",
    "plt.ylabel(\"Точность\")\n",
    "plt.legend([\"train\", \"val\"], loc = \"upper left\")\n",
    "plt.show()\n",
    "plt.figure()\n",
    "plt.plot(best_history_seq4.history['loss'])\n",
    "plt.plot(best_history_seq4.history['val_loss'])\n",
    "plt.title(\"Потери четвёртого варианта модели\")\n",
    "plt.xlabel(\"Эпохи\")\n",
    "plt.ylabel(\"Потери\")\n",
    "plt.legend([\"train\", \"val\"], loc = \"upper left\")\n",
    "plt.show()"
   ]
  },
  {
   "cell_type": "markdown",
   "id": "e4b09a02-0c32-4778-9af9-7b21bff31a9b",
   "metadata": {},
   "source": [
    "### Прогнозирование методом \"случайного леса\""
   ]
  },
  {
   "cell_type": "markdown",
   "id": "ed8eaefb-af20-4345-9455-a5807374a2ca",
   "metadata": {},
   "source": [
    "Воспользуемся для прогнозирования также методом \"случайного леса\" - составим новую модель с использованием **RandomForestClassifier** и того же **GridSearchCV** для подбора гиперпараметров.\n",
    "\n",
    "Будем подбирать следующие параметры:\n",
    "- **n_estimators** - количество деревьев в лесу.\n",
    "- **max_features** - количество признаков для выбора разделения.\n",
    "- **max_depth** - максимальная глубина дерева.\n",
    "- **criterion** - название функции для измерения качества разделения."
   ]
  },
  {
   "cell_type": "code",
   "execution_count": 34,
   "id": "42917b5e-3532-45d0-a6f4-ec0f6001ebbf",
   "metadata": {},
   "outputs": [],
   "source": [
    "def get_best_randomforest_model_params(n_splits, known_pars, potential_pars):\n",
    "    '''\n",
    "    Поиск лучших параметров для модели RandomForestClassifier среди потенциальных параметров potential_pars при том, что известны параметры known_pars и количество разделений для KFold n_splits.\n",
    "    '''\n",
    "    model_kfold = KFold(n_splits = n_splits, shuffle = True, random_state = seed)\n",
    "    model_classifier = RandomForestClassifier(random_state = seed)\n",
    "    model_grid = GridSearchCV(estimator = model_classifier, param_grid = potential_pars, cv = model_kfold, verbose = 1)\n",
    "    model_grid_result = model_grid.fit(x_train, y_train)\n",
    "    return model_grid_result.best_params_, model_grid_result.best_score_"
   ]
  },
  {
   "cell_type": "code",
   "execution_count": 35,
   "id": "18eee6da-3614-4b41-97e3-0de24eb23db5",
   "metadata": {},
   "outputs": [],
   "source": [
    "def get_all_best_randomforest_model_params():\n",
    "    n_splits = 10\n",
    "    estims = [100, 200, 500]\n",
    "    maxfea = [\"sqrt\", \"log2\"]\n",
    "    mdepth = [4, 8, 10]\n",
    "    criter = [\"gini\", \"entropy\", \"log_loss\"]\n",
    "    current_pars = {}\n",
    "    current_pars.update({\"n_estimators\": 100})\n",
    "    current_pars.update({\"max_features\": \"sqrt\"})\n",
    "    current_pars.update({\"max_depth\": 10})\n",
    "    current_pars.update({\"criterion\": \"gini\"})\n",
    "    potential_pars = {}\n",
    "    potential_pars.update({\"n_estimators\": estims})\n",
    "    potential_pars.update({\"max_features\": maxfea})\n",
    "    potential_pars.update({\"max_depth\": mdepth})\n",
    "    potential_pars.update({\"criterion\": criter})\n",
    "    #Ищем сразу все параметры. Это 54 вариации, ещё умножить на n_splits для KFold.\n",
    "    print(\"Поиск всех параметров.\")\n",
    "    print(\"Потенциальные параметры для модели:\", potential_pars)\n",
    "    best_potential_pars, best_score = get_best_randomforest_model_params(n_splits, current_pars, potential_pars)\n",
    "    return best_potential_pars, best_score"
   ]
  },
  {
   "cell_type": "code",
   "execution_count": 36,
   "id": "df63f275-6505-414c-ba89-cb370f5abc83",
   "metadata": {},
   "outputs": [
    {
     "name": "stdout",
     "output_type": "stream",
     "text": [
      "Поиск всех параметров.\n",
      "Потенциальные параметры для модели: {'n_estimators': [100, 200, 500], 'max_features': ['sqrt', 'log2'], 'max_depth': [4, 8, 10], 'criterion': ['gini', 'entropy', 'log_loss']}\n",
      "Fitting 10 folds for each of 54 candidates, totalling 540 fits\n"
     ]
    }
   ],
   "source": [
    "best_pars_randomforest, best_score_randomforest = get_all_best_randomforest_model_params()"
   ]
  },
  {
   "cell_type": "code",
   "execution_count": 37,
   "id": "ee99b6f2-6e82-4d92-bdab-e5c300ab4b6a",
   "metadata": {},
   "outputs": [
    {
     "name": "stdout",
     "output_type": "stream",
     "text": [
      "Лучшие параметры для случайного леса: {'criterion': 'entropy', 'max_depth': 4, 'max_features': 'log2', 'n_estimators': 200}\n",
      "Средняя точность при кросс-валидации: 0.6820024198427103\n",
      "Точность прогнозирования: 63.63636363636363%.\n"
     ]
    }
   ],
   "source": [
    "print(\"Лучшие параметры для случайного леса:\", best_pars_randomforest)\n",
    "print(\"Средняя точность при кросс-валидации:\", best_score_randomforest)\n",
    "best_model_randomforest = RandomForestClassifier(n_estimators = best_pars_randomforest[\"n_estimators\"], max_features = best_pars_randomforest[\"max_features\"], max_depth = best_pars_randomforest[\"max_depth\"], criterion = best_pars_randomforest[\"criterion\"], random_state = seed)\n",
    "best_model_randomforest.fit(x_train, y_train)\n",
    "y_pred = best_model_randomforest.predict(x_test)\n",
    "randomforest_accuracy = accuracy_score(y_test, y_pred)\n",
    "print(\"Точность прогнозирования: \"+str(randomforest_accuracy*100.0)+\"%.\")"
   ]
  },
  {
   "cell_type": "markdown",
   "id": "b4149083-2704-4e71-9cd7-09f4efe3264e",
   "metadata": {},
   "source": [
    "## Вывод"
   ]
  },
  {
   "cell_type": "markdown",
   "id": "7e21b171-12be-4158-8672-ec828f0e48e0",
   "metadata": {},
   "source": [
    "Я расмотрел 4 модели полносвязных нейронных сетей различной топологии и модель \"случайного леса\" для прогнозирования диабета индейцев пима на основе медицинских показателей. Средняя точность сгенерированных моделей составила в районе 62-66%, что не является высоким результатом. Однако это можно оправдать тем, что изначальные данные были предоставлены не в полном виде - часть из них необходимо было заменить на более близкие к действительности, а также тем, что поиск гиперпараметров для обучения - это долгий процесс. В том случае, если бы я воспользовался поиском одновременно всех 5 параметров нейросети, для этого потребовалось бы сгенерировать 7200 её вариантов. В то время как при разделении параметров по группам в количестве 2-2-1 потребовалось в сумме лишь 350 вариантов нейросети.\n",
    "\n",
    "При желании для полносвязных сетей можно изменить ряд возможных значений параметров **batch_size** и **epochs** и повысить точность обучения. Однако это может повлечь за собой переобучение.\n",
    "\n",
    "Для \"случайного леса\" можно также поменять ряды возможных параметров, в частности увеличить численные параметры **n_estimators** и **max_depth** и получить возможно более точную модель."
   ]
  }
 ],
 "metadata": {
  "kernelspec": {
   "display_name": "Python 3 (ipykernel)",
   "language": "python",
   "name": "python3"
  },
  "language_info": {
   "codemirror_mode": {
    "name": "ipython",
    "version": 3
   },
   "file_extension": ".py",
   "mimetype": "text/x-python",
   "name": "python",
   "nbconvert_exporter": "python",
   "pygments_lexer": "ipython3",
   "version": "3.10.4"
  }
 },
 "nbformat": 4,
 "nbformat_minor": 5
}

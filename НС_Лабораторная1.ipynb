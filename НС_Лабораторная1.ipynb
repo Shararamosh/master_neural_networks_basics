{
 "cells": [
  {
   "cell_type": "code",
   "execution_count": 1,
   "metadata": {
    "id": "KqRvM6WzrdZX"
   },
   "outputs": [],
   "source": [
    "import numpy as np"
   ]
  },
  {
   "cell_type": "code",
   "execution_count": 2,
   "metadata": {
    "colab": {
     "base_uri": "https://localhost:8080/"
    },
    "id": "em_vWB2KriQD",
    "outputId": "fe0a0339-9f35-4221-b801-47b848c4b610"
   },
   "outputs": [
    {
     "name": "stdout",
     "output_type": "stream",
     "text": [
      "[3 6 7 2 4 5]\n"
     ]
    }
   ],
   "source": [
    "vec1 = np.array([3, 6, 7, 2, 4, 5])\n",
    "print(vec1)"
   ]
  },
  {
   "cell_type": "code",
   "execution_count": 3,
   "metadata": {
    "colab": {
     "base_uri": "https://localhost:8080/"
    },
    "id": "SCnD691Hr1Y8",
    "outputId": "3df1ac25-5af3-4206-9f70-2d832ff986e0"
   },
   "outputs": [
    {
     "name": "stdout",
     "output_type": "stream",
     "text": [
      "[[3]\n",
      " [6]\n",
      " [7]\n",
      " [2]\n",
      " [4]\n",
      " [5]]\n"
     ]
    }
   ],
   "source": [
    "vec2 = np.array([[3], [6], [7], [2], [4], [5]])\n",
    "print(vec2)"
   ]
  },
  {
   "cell_type": "code",
   "execution_count": 4,
   "metadata": {
    "colab": {
     "base_uri": "https://localhost:8080/"
    },
    "id": "OxEhMeFkshEt",
    "outputId": "aa95f96f-5090-4d35-d887-371daf8627f7"
   },
   "outputs": [
    {
     "name": "stdout",
     "output_type": "stream",
     "text": [
      "[-10.    -9.99  -9.98 ...   9.98   9.99  10.  ]\n"
     ]
    }
   ],
   "source": [
    "x = np.arange(-10.0, 10.01, 0.01)\n",
    "print(x)"
   ]
  },
  {
   "cell_type": "code",
   "execution_count": 5,
   "metadata": {
    "colab": {
     "base_uri": "https://localhost:8080/"
    },
    "id": "NptzC2pGsoMk",
    "outputId": "5e0b80cb-518f-4d6e-a8da-a6a3aca5b9c5"
   },
   "outputs": [
    {
     "name": "stdout",
     "output_type": "stream",
     "text": [
      "[0.5488135  0.71518937 0.60276338 0.54488318 0.4236548  0.64589411\n",
      " 0.43758721 0.891773   0.96366276 0.38344152 0.79172504 0.52889492\n",
      " 0.56804456 0.92559664 0.07103606]\n",
      "[ 9 20 19 16 19  5 15 15  0 18  3 17 19 19 19]\n"
     ]
    }
   ],
   "source": [
    "np.random.seed(0)\n",
    "vec3 = np.random.random(15)\n",
    "print(vec3)\n",
    "vec3 = np.random.randint(0, 21, 15)\n",
    "print(vec3)"
   ]
  },
  {
   "cell_type": "code",
   "execution_count": 6,
   "metadata": {
    "colab": {
     "base_uri": "https://localhost:8080/"
    },
    "id": "AIjcLOXRs0Wv",
    "outputId": "2c0491fa-f9d4-4cb9-d881-9d86d5d3843f"
   },
   "outputs": [
    {
     "name": "stdout",
     "output_type": "stream",
     "text": [
      "Все элементы после 5: [ 5 15 15  0 18  3 17 19 19 19]\n",
      "Все элементы до 10: [ 9 20 19 16 19  5 15 15  0]\n",
      "Все элементы между 3 и 12: [16 19  5 15 15  0 18  3]\n",
      "Первый элемент: 9\n",
      "Последний элемент: 19\n",
      "Без элементов с 4 по 8: [ 9 20 19 18  3 17 19 19 19]\n",
      "Каждый второй элемент: [20 16  5 15 18 17 19]\n"
     ]
    }
   ],
   "source": [
    "print(\"Все элементы после 5:\", vec3[5:])\n",
    "print(\"Все элементы до 10:\", vec3[:9])\n",
    "print(\"Все элементы между 3 и 12:\", vec3[3:11])\n",
    "print(\"Первый элемент:\", vec3[0])\n",
    "print(\"Последний элемент:\", vec3[-1])\n",
    "print(\"Без элементов с 4 по 8:\", np.delete(vec3, [3, 4, 5, 6, 7, 8]))\n",
    "print(\"Каждый второй элемент:\", vec3[1::2])"
   ]
  },
  {
   "cell_type": "code",
   "execution_count": 7,
   "metadata": {
    "colab": {
     "base_uri": "https://localhost:8080/"
    },
    "id": "APTgKQBWt04C",
    "outputId": "b12b7d5e-15fa-4e0a-ae6e-9c82f5ab35b1"
   },
   "outputs": [
    {
     "name": "stdout",
     "output_type": "stream",
     "text": [
      "[[ 2  4  6]\n",
      " [-3  5  1]\n",
      " [ 7  4  5]]\n"
     ]
    }
   ],
   "source": [
    "mat1 = np.array([[2, 4, 6], [-3, 5, 1], [7, 4, 5]])\n",
    "print(mat1)"
   ]
  },
  {
   "cell_type": "code",
   "execution_count": 8,
   "metadata": {
    "colab": {
     "base_uri": "https://localhost:8080/"
    },
    "id": "0wxWtpYJ0WxI",
    "outputId": "f25288e5-350e-4997-e0df-96f26c31ea1d"
   },
   "outputs": [
    {
     "name": "stdout",
     "output_type": "stream",
     "text": [
      "Количество строк: 3\n",
      "Количество столбцов: 3\n",
      "Количество элементов: 9\n",
      "Количество размерностей: 2\n"
     ]
    }
   ],
   "source": [
    "print(\"Количество строк:\", np.shape(mat1)[0])\n",
    "print(\"Количество столбцов:\", np.shape(mat1)[1])\n",
    "print(\"Количество элементов:\", np.size(mat1))\n",
    "print(\"Количество размерностей:\", np.ndim(mat1))"
   ]
  },
  {
   "cell_type": "code",
   "execution_count": 9,
   "metadata": {
    "colab": {
     "base_uri": "https://localhost:8080/"
    },
    "id": "rODfxIgM0jGn",
    "outputId": "b4386267-64b4-4b8a-cabd-0a5be1e015c8"
   },
   "outputs": [
    {
     "name": "stdout",
     "output_type": "stream",
     "text": [
      "Максимум в векторе: 20\n",
      "Максимум в матрице: 7\n",
      "Минимум в векторе: 0\n",
      "Минимум в матрице: -3\n",
      "Среднее в векторе: 14.2\n",
      "Среднее в матрице: 3.4444444444444446\n",
      "Дисперсия в векторе: 40.959999999999994\n",
      "Дисперсия в матрице: 8.246913580246913\n",
      "Стандартное отклонение в векторе: 6.3999999999999995\n",
      "Стандартное отклонение в матрице: 2.871743996293352\n",
      "Отсортированный вектор: [ 0  3  5  9 15 15 16 17 18 19 19 19 19 19 20]\n",
      "Отсортированная матрица:\n",
      "[[ 2  4  6]\n",
      " [-3  1  5]\n",
      " [ 4  5  7]]\n"
     ]
    }
   ],
   "source": [
    "print(\"Максимум в векторе:\", vec3.max())\n",
    "print(\"Максимум в матрице:\", mat1.max())\n",
    "print(\"Минимум в векторе:\", vec3.min())\n",
    "print(\"Минимум в матрице:\", mat1.min())\n",
    "print(\"Среднее в векторе:\", vec3.mean())\n",
    "print(\"Среднее в матрице:\", mat1.mean())\n",
    "print(\"Дисперсия в векторе:\", vec3.var())\n",
    "print(\"Дисперсия в матрице:\", mat1.var())\n",
    "print(\"Стандартное отклонение в векторе:\", vec3.std())\n",
    "print(\"Стандартное отклонение в матрице:\", mat1.std())\n",
    "print(\"Отсортированный вектор:\", np.sort(vec3))\n",
    "print(\"Отсортированная матрица:\")\n",
    "print(np.sort(mat1))"
   ]
  },
  {
   "cell_type": "code",
   "execution_count": 10,
   "metadata": {
    "colab": {
     "base_uri": "https://localhost:8080/"
    },
    "id": "GjiUl3Q42DgX",
    "outputId": "6c2c4b03-f2b3-4935-a89a-e74f4976bc4e"
   },
   "outputs": [
    {
     "name": "stdout",
     "output_type": "stream",
     "text": [
      "Начальный массив:\n",
      "[-5 -4 -3 -2 -1  0  1  2  3  4  5  6  7  8  9 10 11 12 13 14 15 16 17 18\n",
      " 19 20 21 22 23 24]\n"
     ]
    }
   ],
   "source": [
    "vec4 = np.arange(-5, 25, 1)\n",
    "print(\"Начальный массив:\")\n",
    "print(vec4)"
   ]
  },
  {
   "cell_type": "code",
   "execution_count": 11,
   "metadata": {
    "colab": {
     "base_uri": "https://localhost:8080/"
    },
    "id": "tr5qmXiVBO9G",
    "outputId": "4f57d417-d8c0-48bc-e362-9ecf81c933c0"
   },
   "outputs": [
    {
     "name": "stdout",
     "output_type": "stream",
     "text": [
      "Массив после прибавления 2 к каждому элементу:\n",
      "[-3 -2 -1  0  1  2  3  4  5  6  7  8  9 10 11 12 13 14 15 16 17 18 19 20\n",
      " 21 22 23 24 25 26]\n"
     ]
    }
   ],
   "source": [
    "add_2 = lambda x: x+2\n",
    "a = np.vectorize(add_2)(vec4)\n",
    "print(\"Массив после прибавления 2 к каждому элементу:\")\n",
    "print(a)"
   ]
  },
  {
   "cell_type": "code",
   "execution_count": 12,
   "metadata": {
    "colab": {
     "base_uri": "https://localhost:8080/"
    },
    "id": "nwCY9Q0N_G0X",
    "outputId": "90393116-bc65-473c-859d-85d379ff49e2"
   },
   "outputs": [
    {
     "name": "stdout",
     "output_type": "stream",
     "text": [
      "Максимальный элемент в массиве: 24\n",
      "Массив после деления каждого элемента на 24:\n",
      "[-0.20833333 -0.16666667 -0.125      -0.08333333 -0.04166667  0.\n",
      "  0.04166667  0.08333333  0.125       0.16666667  0.20833333  0.25\n",
      "  0.29166667  0.33333333  0.375       0.41666667  0.45833333  0.5\n",
      "  0.54166667  0.58333333  0.625       0.66666667  0.70833333  0.75\n",
      "  0.79166667  0.83333333  0.875       0.91666667  0.95833333  1.        ]\n"
     ]
    }
   ],
   "source": [
    "maxv = np.amax(vec4)\n",
    "print(\"Максимальный элемент в массиве:\", maxv)\n",
    "sub_maxv = lambda x: x/maxv\n",
    "a = np.vectorize(sub_maxv)(vec4)\n",
    "print(\"Массив после деления каждого элемента на \"+str(maxv)+\":\")\n",
    "print(a)"
   ]
  },
  {
   "cell_type": "code",
   "execution_count": 13,
   "metadata": {
    "colab": {
     "base_uri": "https://localhost:8080/"
    },
    "id": "ZPsYYW5N9Aw9",
    "outputId": "fbd08034-4a26-41e9-95ec-e88c1c1298f1"
   },
   "outputs": [
    {
     "name": "stdout",
     "output_type": "stream",
     "text": [
      "Массив после замены чётных элементов на 0:\n",
      "[-5  0 -3  0 -1  0  1  0  3  0  5  0  7  0  9  0 11  0 13  0 15  0 17  0\n",
      " 19  0 21  0 23  0]\n"
     ]
    }
   ],
   "source": [
    "nul_even = lambda x: 0 if x % 2 == 0 else x\n",
    "a = np.vectorize(nul_even)(vec4)\n",
    "print(\"Массив после замены чётных элементов на 0:\")\n",
    "print(a)"
   ]
  },
  {
   "cell_type": "code",
   "execution_count": 14,
   "metadata": {
    "colab": {
     "base_uri": "https://localhost:8080/"
    },
    "id": "0maz00bE-37c",
    "outputId": "f940f81a-2b73-405f-90fa-f00d5b42d3ed"
   },
   "outputs": [
    {
     "name": "stdout",
     "output_type": "stream",
     "text": [
      "Массив после замены отрицательных элементов на 0 и умножения положительных на 2:\n",
      "[ 0  0  0  0  0  0  2  4  6  8 10 12 14 16 18 20 22 24 26 28 30 32 34 36\n",
      " 38 40 42 44 46 48]\n"
     ]
    }
   ],
   "source": [
    "n_zero_p_double = lambda x: 0 if x < 0 else x*2\n",
    "a = np.vectorize(n_zero_p_double)(vec4)\n",
    "print(\"Массив после замены отрицательных элементов на 0 и умножения положительных на 2:\")\n",
    "print(a)"
   ]
  },
  {
   "cell_type": "code",
   "execution_count": 15,
   "metadata": {
    "colab": {
     "base_uri": "https://localhost:8080/"
    },
    "id": "vaRBfvr5_SrU",
    "outputId": "06743d93-9ec8-4f17-f552-d601978649ad"
   },
   "outputs": [
    {
     "name": "stdout",
     "output_type": "stream",
     "text": [
      "Начальная матрица:\n",
      "[[-5 -4 -3 -2 -1  0]\n",
      " [ 1  2  3  4  5  6]\n",
      " [ 7  8  9 10 11 12]\n",
      " [13 14 15 16 17 18]\n",
      " [19 20 21 22 23 24]]\n"
     ]
    }
   ],
   "source": [
    "mat2 = vec4.reshape((5, 6))\n",
    "print(\"Начальная матрица:\")\n",
    "print(mat2)"
   ]
  },
  {
   "cell_type": "code",
   "execution_count": 16,
   "metadata": {
    "colab": {
     "base_uri": "https://localhost:8080/"
    },
    "id": "0lsxYNiXAmZC",
    "outputId": "2fe111be-3f56-410c-c175-d12d34aae8eb"
   },
   "outputs": [
    {
     "name": "stdout",
     "output_type": "stream",
     "text": [
      "Матрица после прибавления 2 к каждому элементу:\n",
      "[[-3 -2 -1  0  1  2]\n",
      " [ 3  4  5  6  7  8]\n",
      " [ 9 10 11 12 13 14]\n",
      " [15 16 17 18 19 20]\n",
      " [21 22 23 24 25 26]]\n"
     ]
    }
   ],
   "source": [
    "a = np.vectorize(add_2)(mat2)\n",
    "print(\"Матрица после прибавления 2 к каждому элементу:\")\n",
    "print(a)"
   ]
  },
  {
   "cell_type": "code",
   "execution_count": 17,
   "metadata": {
    "colab": {
     "base_uri": "https://localhost:8080/"
    },
    "id": "wvTL3HrpBlJB",
    "outputId": "316addb1-4e93-452f-cebf-d34b5548f4bf"
   },
   "outputs": [
    {
     "name": "stdout",
     "output_type": "stream",
     "text": [
      "Максимальный элемент в матрице: 24\n",
      "Матрица после деления каждого элемента на 24:\n",
      "[[-0.20833333 -0.16666667 -0.125      -0.08333333 -0.04166667  0.        ]\n",
      " [ 0.04166667  0.08333333  0.125       0.16666667  0.20833333  0.25      ]\n",
      " [ 0.29166667  0.33333333  0.375       0.41666667  0.45833333  0.5       ]\n",
      " [ 0.54166667  0.58333333  0.625       0.66666667  0.70833333  0.75      ]\n",
      " [ 0.79166667  0.83333333  0.875       0.91666667  0.95833333  1.        ]]\n"
     ]
    }
   ],
   "source": [
    "maxv = np.amax(mat2)\n",
    "print(\"Максимальный элемент в матрице:\", maxv)\n",
    "a = np.vectorize(sub_maxv)(mat2)\n",
    "print(\"Матрица после деления каждого элемента на \"+str(maxv)+\":\")\n",
    "print(a)"
   ]
  },
  {
   "cell_type": "code",
   "execution_count": 18,
   "metadata": {
    "colab": {
     "base_uri": "https://localhost:8080/"
    },
    "id": "-S-oWXjcBq_A",
    "outputId": "0df36f51-783a-465a-d520-1eeab5c85499"
   },
   "outputs": [
    {
     "name": "stdout",
     "output_type": "stream",
     "text": [
      "Матрица после замены чётных элементов на 0:\n",
      "[[-5  0 -3  0 -1  0]\n",
      " [ 1  0  3  0  5  0]\n",
      " [ 7  0  9  0 11  0]\n",
      " [13  0 15  0 17  0]\n",
      " [19  0 21  0 23  0]]\n"
     ]
    }
   ],
   "source": [
    "a = np.vectorize(nul_even)(mat2)\n",
    "print(\"Матрица после замены чётных элементов на 0:\")\n",
    "print(a)"
   ]
  },
  {
   "cell_type": "code",
   "execution_count": 19,
   "metadata": {
    "colab": {
     "base_uri": "https://localhost:8080/"
    },
    "id": "EDozwJJ_CJSg",
    "outputId": "25cdcaca-4287-4c09-f209-a175e9aef01d"
   },
   "outputs": [
    {
     "name": "stdout",
     "output_type": "stream",
     "text": [
      "Массив после замены отрицательных элементов на 0 и умножения положительных на 2:\n",
      "[[ 0  0  0  0  0  0]\n",
      " [ 2  4  6  8 10 12]\n",
      " [14 16 18 20 22 24]\n",
      " [26 28 30 32 34 36]\n",
      " [38 40 42 44 46 48]]\n"
     ]
    }
   ],
   "source": [
    "a = np.vectorize(n_zero_p_double)(mat2)\n",
    "print(\"Массив после замены отрицательных элементов на 0 и умножения положительных на 2:\")\n",
    "print(a)"
   ]
  },
  {
   "cell_type": "code",
   "execution_count": 20,
   "metadata": {
    "colab": {
     "base_uri": "https://localhost:8080/"
    },
    "id": "-RpIUewqCSHP",
    "outputId": "7ca03503-0baa-4960-9ae6-d35cd383a821"
   },
   "outputs": [
    {
     "name": "stdout",
     "output_type": "stream",
     "text": [
      "Сгенерированный одномерный массив:\n",
      "[ 9  2 -5 -4  4 -5  5 -2  6 13 -3 -5 -5 -1  0  1  3 12 10 -1  4  5 -4 -4\n",
      "  2  4 -2  1  6  9 13 -5  9 -2  7  5  6 -1  1 -1 10 -2  7 -1  3  9 10 -2\n",
      " 10  8 11 12  0  4 -2 -5  0 -5 12 13]\n"
     ]
    }
   ],
   "source": [
    "a = np.random.randint(low = -5, high = 15, size = 60)\n",
    "print(\"Сгенерированный одномерный массив:\")\n",
    "print(a)"
   ]
  },
  {
   "cell_type": "code",
   "execution_count": 21,
   "metadata": {
    "colab": {
     "base_uri": "https://localhost:8080/"
    },
    "id": "SBOThB5KC4sQ",
    "outputId": "07a6f5a4-4235-4a09-cbc3-b6971154aa33"
   },
   "outputs": [
    {
     "name": "stdout",
     "output_type": "stream",
     "text": [
      "Одномерный массив, преобразованный в двумерный массив:\n",
      "[[ 9  2 -5 -4  4 -5  5 -2  6 13 -3 -5 -5 -1  0  1  3 12 10 -1  4  5 -4 -4\n",
      "   2  4 -2  1  6  9]\n",
      " [13 -5  9 -2  7  5  6 -1  1 -1 10 -2  7 -1  3  9 10 -2 10  8 11 12  0  4\n",
      "  -2 -5  0 -5 12 13]]\n"
     ]
    }
   ],
   "source": [
    "a1 = a.reshape(2, -1)\n",
    "print(\"Одномерный массив, преобразованный в двумерный массив:\")\n",
    "print(a1)"
   ]
  },
  {
   "cell_type": "code",
   "execution_count": 22,
   "metadata": {
    "colab": {
     "base_uri": "https://localhost:8080/"
    },
    "id": "Co6JZr70DM4v",
    "outputId": "d0356e10-02ed-419f-d460-17cb4ab85276"
   },
   "outputs": [
    {
     "name": "stdout",
     "output_type": "stream",
     "text": [
      "Одномерный массив, преобразованный в трёхмерный массив:\n",
      "[[[ 9  2 -5 -4  4]\n",
      "  [-5  5 -2  6 13]\n",
      "  [-3 -5 -5 -1  0]\n",
      "  [ 1  3 12 10 -1]]\n",
      "\n",
      " [[ 4  5 -4 -4  2]\n",
      "  [ 4 -2  1  6  9]\n",
      "  [13 -5  9 -2  7]\n",
      "  [ 5  6 -1  1 -1]]\n",
      "\n",
      " [[10 -2  7 -1  3]\n",
      "  [ 9 10 -2 10  8]\n",
      "  [11 12  0  4 -2]\n",
      "  [-5  0 -5 12 13]]]\n"
     ]
    }
   ],
   "source": [
    "a2 = a.reshape(3, 4, -1)\n",
    "print(\"Одномерный массив, преобразованный в трёхмерный массив:\")\n",
    "print(a2)"
   ]
  },
  {
   "cell_type": "code",
   "execution_count": 23,
   "metadata": {
    "colab": {
     "base_uri": "https://localhost:8080/"
    },
    "id": "ZVuS8r92DXpX",
    "outputId": "6faf767d-a8cd-4da6-8ccd-e52339d9807f"
   },
   "outputs": [
    {
     "name": "stdout",
     "output_type": "stream",
     "text": [
      "Сгенерированная матрица:\n",
      "[[-1 -3 11 -2 -3  5  8 11  2  4 -5  5]\n",
      " [13  6 -3 -3 -2 -2 13  9 -2 12 13  9]]\n"
     ]
    }
   ],
   "source": [
    "a = np.random.randint(low = -5, high = 15, size = (2, 12))\n",
    "print(\"Сгенерированная матрица:\")\n",
    "print(a)"
   ]
  },
  {
   "cell_type": "code",
   "execution_count": 24,
   "metadata": {
    "colab": {
     "base_uri": "https://localhost:8080/"
    },
    "id": "UKAqU6myDlEm",
    "outputId": "dcec8ae1-9848-4d03-f6da-8c45418680f3"
   },
   "outputs": [
    {
     "name": "stdout",
     "output_type": "stream",
     "text": [
      "Матрица, преобразованная в трёхмерный массив:\n",
      "[[[-1 -3 11 -2]\n",
      "  [-3  5  8 11]]\n",
      "\n",
      " [[ 2  4 -5  5]\n",
      "  [13  6 -3 -3]]\n",
      "\n",
      " [[-2 -2 13  9]\n",
      "  [-2 12 13  9]]]\n"
     ]
    }
   ],
   "source": [
    "a2 = a.reshape(3, 2, -1)\n",
    "print(\"Матрица, преобразованная в трёхмерный массив:\")\n",
    "print(a2)"
   ]
  },
  {
   "cell_type": "code",
   "execution_count": 25,
   "metadata": {
    "colab": {
     "base_uri": "https://localhost:8080/"
    },
    "id": "gUSQmy83Dq6G",
    "outputId": "0d8faa52-531a-49a7-dc75-3ea4ffb901c4"
   },
   "outputs": [
    {
     "name": "stdout",
     "output_type": "stream",
     "text": [
      "Сгенерированная матрица:\n",
      "[[ 4 -4 -1  5  6  3]\n",
      " [ 6 -3 14 11 -5 -5]\n",
      " [ 1 14  9  5 14  3]\n",
      " [ 8 -3 -2 -3  6  8]]\n"
     ]
    }
   ],
   "source": [
    "m1 = np.random.randint(low = -5, high = 15, size = (4, 6))\n",
    "print(\"Сгенерированная матрица:\")\n",
    "print(m1)"
   ]
  },
  {
   "cell_type": "code",
   "execution_count": 26,
   "metadata": {
    "colab": {
     "base_uri": "https://localhost:8080/"
    },
    "id": "7950Gva8D_x2",
    "outputId": "c5979a67-3602-49d2-a712-8326411a6e5c"
   },
   "outputs": [
    {
     "name": "stdout",
     "output_type": "stream",
     "text": [
      "Транспонированная матрица:\n",
      "[[ 4  6  1  8]\n",
      " [-4 -3 14 -3]\n",
      " [-1 14  9 -2]\n",
      " [ 5 11  5 -3]\n",
      " [ 6 -5 14  6]\n",
      " [ 3 -5  3  8]]\n"
     ]
    }
   ],
   "source": [
    "print(\"Транспонированная матрица:\")\n",
    "print(m1.T)"
   ]
  },
  {
   "cell_type": "code",
   "execution_count": 27,
   "metadata": {
    "colab": {
     "base_uri": "https://localhost:8080/"
    },
    "id": "A4uZHV50EHy-",
    "outputId": "4f20abd3-b564-4207-8afb-73a9d37a0f8f"
   },
   "outputs": [
    {
     "name": "stdout",
     "output_type": "stream",
     "text": [
      "Сгенерированная новая матрица:\n",
      "[[11  3  3 14]\n",
      " [ 3 -3 -2  7]\n",
      " [ 9 -5 -1 -2]\n",
      " [ 8  6  8  8]\n",
      " [ 6 11  9 11]\n",
      " [14 -4  3 -5]]\n"
     ]
    }
   ],
   "source": [
    "m2 = np.random.randint(low = -5, high = 15, size = (6, 4))\n",
    "print(\"Сгенерированная новая матрица:\")\n",
    "print(m2)"
   ]
  },
  {
   "cell_type": "code",
   "execution_count": 28,
   "metadata": {
    "colab": {
     "base_uri": "https://localhost:8080/"
    },
    "id": "JA00k5pyEQ1e",
    "outputId": "23d559af-b973-4718-b77b-316f99cf45a9"
   },
   "outputs": [
    {
     "name": "stdout",
     "output_type": "stream",
     "text": [
      "Произведение матриц:\n",
      "[[141 113 124 121]\n",
      " [171 -12  38  93]\n",
      " [300  88 141 273]\n",
      " [185  59  86  97]]\n"
     ]
    }
   ],
   "source": [
    "print(\"Произведение матриц:\")\n",
    "print(np.dot(m1, m2))"
   ]
  },
  {
   "cell_type": "code",
   "execution_count": 29,
   "metadata": {
    "colab": {
     "base_uri": "https://localhost:8080/"
    },
    "id": "V5SzHTjHEUme",
    "outputId": "068b21c9-593e-42d9-cf40-9dba26f7eb6f"
   },
   "outputs": [
    {
     "name": "stdout",
     "output_type": "stream",
     "text": [
      "Матрица с изменённой формой:\n",
      "[[11  3  3 14  3 -3]\n",
      " [-2  7  9 -5 -1 -2]\n",
      " [ 8  6  8  8  6 11]\n",
      " [ 9 11 14 -4  3 -5]]\n"
     ]
    }
   ],
   "source": [
    "m2 = m2.reshape((4, 6))\n",
    "print(\"Матрица с изменённой формой:\")\n",
    "print(m2)"
   ]
  },
  {
   "cell_type": "code",
   "execution_count": 30,
   "metadata": {
    "colab": {
     "base_uri": "https://localhost:8080/"
    },
    "id": "1Ew9kWBqEgte",
    "outputId": "206e35df-f559-48c6-9a87-6df8c56f4156"
   },
   "outputs": [
    {
     "name": "stdout",
     "output_type": "stream",
     "text": [
      "Сложение матриц:\n",
      "[[15 -1  2 19  9  0]\n",
      " [ 4  4 23  6 -6 -7]\n",
      " [ 9 20 17 13 20 14]\n",
      " [17  8 12 -7  9  3]]\n"
     ]
    }
   ],
   "source": [
    "print(\"Сложение матриц:\")\n",
    "print(m1+m2)"
   ]
  },
  {
   "cell_type": "code",
   "execution_count": 31,
   "metadata": {
    "colab": {
     "base_uri": "https://localhost:8080/"
    },
    "id": "8BDVGAxCE7JV",
    "outputId": "2d733524-0ff4-4034-dea0-9a42e461aab7"
   },
   "outputs": [
    {
     "name": "stdout",
     "output_type": "stream",
     "text": [
      "Поэлементное произведение матриц:\n",
      "[[ 44 -12  -3  70  18  -9]\n",
      " [-12 -21 126 -55   5  10]\n",
      " [  8  84  72  40  84  33]\n",
      " [ 72 -33 -28  12  18 -40]]\n"
     ]
    }
   ],
   "source": [
    "print(\"Поэлементное произведение матриц:\")\n",
    "print(m1*m2)"
   ]
  },
  {
   "cell_type": "code",
   "execution_count": 32,
   "metadata": {
    "colab": {
     "base_uri": "https://localhost:8080/"
    },
    "id": "-aOH-ifFE_HF",
    "outputId": "92b8e5eb-a6b8-49ed-8724-39580d7d75ca"
   },
   "outputs": [
    {
     "name": "stdout",
     "output_type": "stream",
     "text": [
      "Первый сгенерированный вектор:\n",
      "[-5.  -2.5  0.   2.5  5.   7.5]\n",
      "Второй сгенерированный вектор:\n",
      "[3 4 5 6 7 8]\n",
      "Скалярное произведение векторов:\n",
      "85.0\n"
     ]
    }
   ],
   "source": [
    "a1 = np.arange(-5, 10, 2.5)\n",
    "a2 = np.arange(3, 9, 1)\n",
    "print(\"Первый сгенерированный вектор:\")\n",
    "print(a1)\n",
    "print(\"Второй сгенерированный вектор:\")\n",
    "print(a2)\n",
    "print(\"Скалярное произведение векторов:\")\n",
    "print(np.dot(a1, a2))"
   ]
  }
 ],
 "metadata": {
  "colab": {
   "collapsed_sections": [],
   "provenance": []
  },
  "kernelspec": {
   "display_name": "Python 3 (ipykernel)",
   "language": "python",
   "name": "python3"
  },
  "language_info": {
   "codemirror_mode": {
    "name": "ipython",
    "version": 3
   },
   "file_extension": ".py",
   "mimetype": "text/x-python",
   "name": "python",
   "nbconvert_exporter": "python",
   "pygments_lexer": "ipython3",
   "version": "3.10.2"
  }
 },
 "nbformat": 4,
 "nbformat_minor": 1
}
